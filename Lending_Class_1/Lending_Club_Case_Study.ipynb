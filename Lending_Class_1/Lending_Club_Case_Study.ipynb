{
 "cells": [
  {
   "cell_type": "markdown",
   "metadata": {
    "id": "DBaofFvwLDua"
   },
   "source": [
    "## **## Lending club case study**"
   ]
  },
  {
   "cell_type": "code",
   "execution_count": 1,
   "metadata": {
    "colab": {
     "base_uri": "https://localhost:8080/"
    },
    "id": "cugA2I9cMHQK",
    "outputId": "e81772af-ebac-4cfd-e6bf-1754bb9e9d72"
   },
   "outputs": [
    {
     "name": "stdout",
     "output_type": "stream",
     "text": [
      "Mounted at /content/drive\n"
     ]
    }
   ],
   "source": [
    "import pandas as pd\n",
    "from google.colab import drive\n",
    "drive.mount('/content/drive')\n"
   ]
  },
  {
   "cell_type": "code",
   "execution_count": 2,
   "metadata": {
    "colab": {
     "base_uri": "https://localhost:8080/",
     "height": 421
    },
    "id": "LUlJ0AXE7TTK",
    "outputId": "3bfbabfe-7b2f-46b1-f4c2-0753f0072186"
   },
   "outputs": [
    {
     "name": "stderr",
     "output_type": "stream",
     "text": [
      "/usr/local/lib/python3.7/dist-packages/IPython/core/interactiveshell.py:2882: DtypeWarning: Columns (47) have mixed types.Specify dtype option on import or set low_memory=False.\n",
      "  exec(code_obj, self.user_global_ns, self.user_ns)\n"
     ]
    },
    {
     "data": {
      "text/html": [
       "\n",
       "  <div id=\"df-1458812b-3860-4455-b17d-9a7327502ee5\">\n",
       "    <div class=\"colab-df-container\">\n",
       "      <div>\n",
       "<style scoped>\n",
       "    .dataframe tbody tr th:only-of-type {\n",
       "        vertical-align: middle;\n",
       "    }\n",
       "\n",
       "    .dataframe tbody tr th {\n",
       "        vertical-align: top;\n",
       "    }\n",
       "\n",
       "    .dataframe thead th {\n",
       "        text-align: right;\n",
       "    }\n",
       "</style>\n",
       "<table border=\"1\" class=\"dataframe\">\n",
       "  <thead>\n",
       "    <tr style=\"text-align: right;\">\n",
       "      <th></th>\n",
       "      <th>id</th>\n",
       "      <th>member_id</th>\n",
       "      <th>loan_amnt</th>\n",
       "      <th>funded_amnt</th>\n",
       "      <th>funded_amnt_inv</th>\n",
       "      <th>term</th>\n",
       "      <th>int_rate</th>\n",
       "      <th>installment</th>\n",
       "      <th>grade</th>\n",
       "      <th>sub_grade</th>\n",
       "      <th>...</th>\n",
       "      <th>num_tl_90g_dpd_24m</th>\n",
       "      <th>num_tl_op_past_12m</th>\n",
       "      <th>pct_tl_nvr_dlq</th>\n",
       "      <th>percent_bc_gt_75</th>\n",
       "      <th>pub_rec_bankruptcies</th>\n",
       "      <th>tax_liens</th>\n",
       "      <th>tot_hi_cred_lim</th>\n",
       "      <th>total_bal_ex_mort</th>\n",
       "      <th>total_bc_limit</th>\n",
       "      <th>total_il_high_credit_limit</th>\n",
       "    </tr>\n",
       "  </thead>\n",
       "  <tbody>\n",
       "    <tr>\n",
       "      <th>0</th>\n",
       "      <td>1077501</td>\n",
       "      <td>1296599</td>\n",
       "      <td>5000</td>\n",
       "      <td>5000</td>\n",
       "      <td>4975.0</td>\n",
       "      <td>36 months</td>\n",
       "      <td>10.65%</td>\n",
       "      <td>162.87</td>\n",
       "      <td>B</td>\n",
       "      <td>B2</td>\n",
       "      <td>...</td>\n",
       "      <td>NaN</td>\n",
       "      <td>NaN</td>\n",
       "      <td>NaN</td>\n",
       "      <td>NaN</td>\n",
       "      <td>0.0</td>\n",
       "      <td>0.0</td>\n",
       "      <td>NaN</td>\n",
       "      <td>NaN</td>\n",
       "      <td>NaN</td>\n",
       "      <td>NaN</td>\n",
       "    </tr>\n",
       "    <tr>\n",
       "      <th>1</th>\n",
       "      <td>1077430</td>\n",
       "      <td>1314167</td>\n",
       "      <td>2500</td>\n",
       "      <td>2500</td>\n",
       "      <td>2500.0</td>\n",
       "      <td>60 months</td>\n",
       "      <td>15.27%</td>\n",
       "      <td>59.83</td>\n",
       "      <td>C</td>\n",
       "      <td>C4</td>\n",
       "      <td>...</td>\n",
       "      <td>NaN</td>\n",
       "      <td>NaN</td>\n",
       "      <td>NaN</td>\n",
       "      <td>NaN</td>\n",
       "      <td>0.0</td>\n",
       "      <td>0.0</td>\n",
       "      <td>NaN</td>\n",
       "      <td>NaN</td>\n",
       "      <td>NaN</td>\n",
       "      <td>NaN</td>\n",
       "    </tr>\n",
       "    <tr>\n",
       "      <th>2</th>\n",
       "      <td>1077175</td>\n",
       "      <td>1313524</td>\n",
       "      <td>2400</td>\n",
       "      <td>2400</td>\n",
       "      <td>2400.0</td>\n",
       "      <td>36 months</td>\n",
       "      <td>15.96%</td>\n",
       "      <td>84.33</td>\n",
       "      <td>C</td>\n",
       "      <td>C5</td>\n",
       "      <td>...</td>\n",
       "      <td>NaN</td>\n",
       "      <td>NaN</td>\n",
       "      <td>NaN</td>\n",
       "      <td>NaN</td>\n",
       "      <td>0.0</td>\n",
       "      <td>0.0</td>\n",
       "      <td>NaN</td>\n",
       "      <td>NaN</td>\n",
       "      <td>NaN</td>\n",
       "      <td>NaN</td>\n",
       "    </tr>\n",
       "    <tr>\n",
       "      <th>3</th>\n",
       "      <td>1076863</td>\n",
       "      <td>1277178</td>\n",
       "      <td>10000</td>\n",
       "      <td>10000</td>\n",
       "      <td>10000.0</td>\n",
       "      <td>36 months</td>\n",
       "      <td>13.49%</td>\n",
       "      <td>339.31</td>\n",
       "      <td>C</td>\n",
       "      <td>C1</td>\n",
       "      <td>...</td>\n",
       "      <td>NaN</td>\n",
       "      <td>NaN</td>\n",
       "      <td>NaN</td>\n",
       "      <td>NaN</td>\n",
       "      <td>0.0</td>\n",
       "      <td>0.0</td>\n",
       "      <td>NaN</td>\n",
       "      <td>NaN</td>\n",
       "      <td>NaN</td>\n",
       "      <td>NaN</td>\n",
       "    </tr>\n",
       "    <tr>\n",
       "      <th>4</th>\n",
       "      <td>1075358</td>\n",
       "      <td>1311748</td>\n",
       "      <td>3000</td>\n",
       "      <td>3000</td>\n",
       "      <td>3000.0</td>\n",
       "      <td>60 months</td>\n",
       "      <td>12.69%</td>\n",
       "      <td>67.79</td>\n",
       "      <td>B</td>\n",
       "      <td>B5</td>\n",
       "      <td>...</td>\n",
       "      <td>NaN</td>\n",
       "      <td>NaN</td>\n",
       "      <td>NaN</td>\n",
       "      <td>NaN</td>\n",
       "      <td>0.0</td>\n",
       "      <td>0.0</td>\n",
       "      <td>NaN</td>\n",
       "      <td>NaN</td>\n",
       "      <td>NaN</td>\n",
       "      <td>NaN</td>\n",
       "    </tr>\n",
       "  </tbody>\n",
       "</table>\n",
       "<p>5 rows × 111 columns</p>\n",
       "</div>\n",
       "      <button class=\"colab-df-convert\" onclick=\"convertToInteractive('df-1458812b-3860-4455-b17d-9a7327502ee5')\"\n",
       "              title=\"Convert this dataframe to an interactive table.\"\n",
       "              style=\"display:none;\">\n",
       "        \n",
       "  <svg xmlns=\"http://www.w3.org/2000/svg\" height=\"24px\"viewBox=\"0 0 24 24\"\n",
       "       width=\"24px\">\n",
       "    <path d=\"M0 0h24v24H0V0z\" fill=\"none\"/>\n",
       "    <path d=\"M18.56 5.44l.94 2.06.94-2.06 2.06-.94-2.06-.94-.94-2.06-.94 2.06-2.06.94zm-11 1L8.5 8.5l.94-2.06 2.06-.94-2.06-.94L8.5 2.5l-.94 2.06-2.06.94zm10 10l.94 2.06.94-2.06 2.06-.94-2.06-.94-.94-2.06-.94 2.06-2.06.94z\"/><path d=\"M17.41 7.96l-1.37-1.37c-.4-.4-.92-.59-1.43-.59-.52 0-1.04.2-1.43.59L10.3 9.45l-7.72 7.72c-.78.78-.78 2.05 0 2.83L4 21.41c.39.39.9.59 1.41.59.51 0 1.02-.2 1.41-.59l7.78-7.78 2.81-2.81c.8-.78.8-2.07 0-2.86zM5.41 20L4 18.59l7.72-7.72 1.47 1.35L5.41 20z\"/>\n",
       "  </svg>\n",
       "      </button>\n",
       "      \n",
       "  <style>\n",
       "    .colab-df-container {\n",
       "      display:flex;\n",
       "      flex-wrap:wrap;\n",
       "      gap: 12px;\n",
       "    }\n",
       "\n",
       "    .colab-df-convert {\n",
       "      background-color: #E8F0FE;\n",
       "      border: none;\n",
       "      border-radius: 50%;\n",
       "      cursor: pointer;\n",
       "      display: none;\n",
       "      fill: #1967D2;\n",
       "      height: 32px;\n",
       "      padding: 0 0 0 0;\n",
       "      width: 32px;\n",
       "    }\n",
       "\n",
       "    .colab-df-convert:hover {\n",
       "      background-color: #E2EBFA;\n",
       "      box-shadow: 0px 1px 2px rgba(60, 64, 67, 0.3), 0px 1px 3px 1px rgba(60, 64, 67, 0.15);\n",
       "      fill: #174EA6;\n",
       "    }\n",
       "\n",
       "    [theme=dark] .colab-df-convert {\n",
       "      background-color: #3B4455;\n",
       "      fill: #D2E3FC;\n",
       "    }\n",
       "\n",
       "    [theme=dark] .colab-df-convert:hover {\n",
       "      background-color: #434B5C;\n",
       "      box-shadow: 0px 1px 3px 1px rgba(0, 0, 0, 0.15);\n",
       "      filter: drop-shadow(0px 1px 2px rgba(0, 0, 0, 0.3));\n",
       "      fill: #FFFFFF;\n",
       "    }\n",
       "  </style>\n",
       "\n",
       "      <script>\n",
       "        const buttonEl =\n",
       "          document.querySelector('#df-1458812b-3860-4455-b17d-9a7327502ee5 button.colab-df-convert');\n",
       "        buttonEl.style.display =\n",
       "          google.colab.kernel.accessAllowed ? 'block' : 'none';\n",
       "\n",
       "        async function convertToInteractive(key) {\n",
       "          const element = document.querySelector('#df-1458812b-3860-4455-b17d-9a7327502ee5');\n",
       "          const dataTable =\n",
       "            await google.colab.kernel.invokeFunction('convertToInteractive',\n",
       "                                                     [key], {});\n",
       "          if (!dataTable) return;\n",
       "\n",
       "          const docLinkHtml = 'Like what you see? Visit the ' +\n",
       "            '<a target=\"_blank\" href=https://colab.research.google.com/notebooks/data_table.ipynb>data table notebook</a>'\n",
       "            + ' to learn more about interactive tables.';\n",
       "          element.innerHTML = '';\n",
       "          dataTable['output_type'] = 'display_data';\n",
       "          await google.colab.output.renderOutput(dataTable, element);\n",
       "          const docLink = document.createElement('div');\n",
       "          docLink.innerHTML = docLinkHtml;\n",
       "          element.appendChild(docLink);\n",
       "        }\n",
       "      </script>\n",
       "    </div>\n",
       "  </div>\n",
       "  "
      ],
      "text/plain": [
       "        id  member_id  loan_amnt  funded_amnt  funded_amnt_inv        term  \\\n",
       "0  1077501    1296599       5000         5000           4975.0   36 months   \n",
       "1  1077430    1314167       2500         2500           2500.0   60 months   \n",
       "2  1077175    1313524       2400         2400           2400.0   36 months   \n",
       "3  1076863    1277178      10000        10000          10000.0   36 months   \n",
       "4  1075358    1311748       3000         3000           3000.0   60 months   \n",
       "\n",
       "  int_rate  installment grade sub_grade  ... num_tl_90g_dpd_24m  \\\n",
       "0   10.65%       162.87     B        B2  ...                NaN   \n",
       "1   15.27%        59.83     C        C4  ...                NaN   \n",
       "2   15.96%        84.33     C        C5  ...                NaN   \n",
       "3   13.49%       339.31     C        C1  ...                NaN   \n",
       "4   12.69%        67.79     B        B5  ...                NaN   \n",
       "\n",
       "  num_tl_op_past_12m pct_tl_nvr_dlq  percent_bc_gt_75 pub_rec_bankruptcies  \\\n",
       "0                NaN            NaN               NaN                  0.0   \n",
       "1                NaN            NaN               NaN                  0.0   \n",
       "2                NaN            NaN               NaN                  0.0   \n",
       "3                NaN            NaN               NaN                  0.0   \n",
       "4                NaN            NaN               NaN                  0.0   \n",
       "\n",
       "  tax_liens tot_hi_cred_lim total_bal_ex_mort total_bc_limit  \\\n",
       "0       0.0             NaN               NaN            NaN   \n",
       "1       0.0             NaN               NaN            NaN   \n",
       "2       0.0             NaN               NaN            NaN   \n",
       "3       0.0             NaN               NaN            NaN   \n",
       "4       0.0             NaN               NaN            NaN   \n",
       "\n",
       "  total_il_high_credit_limit  \n",
       "0                        NaN  \n",
       "1                        NaN  \n",
       "2                        NaN  \n",
       "3                        NaN  \n",
       "4                        NaN  \n",
       "\n",
       "[5 rows x 111 columns]"
      ]
     },
     "execution_count": 2,
     "metadata": {},
     "output_type": "execute_result"
    }
   ],
   "source": [
    "df = pd.read_csv('/content/drive/MyDrive/loan.csv')\n",
    "import numpy as np\n",
    "import pandas as pd\n",
    "import seaborn as sns\n",
    "import matplotlib.pylab as plt\n",
    "df.head()\n",
    "\n"
   ]
  },
  {
   "cell_type": "markdown",
   "metadata": {
    "id": "lwbkJ1q6OsP5"
   },
   "source": [
    "## **Size of File**"
   ]
  },
  {
   "cell_type": "code",
   "execution_count": null,
   "metadata": {
    "colab": {
     "base_uri": "https://localhost:8080/"
    },
    "id": "A9kIPW-hOpvr",
    "outputId": "92429db2-b490-4453-bef0-977345e37e39"
   },
   "outputs": [
    {
     "data": {
      "text/plain": [
       "(39717, 111)"
      ]
     },
     "execution_count": 7,
     "metadata": {},
     "output_type": "execute_result"
    }
   ],
   "source": [
    "df.shape\n"
   ]
  },
  {
   "cell_type": "markdown",
   "metadata": {
    "id": "F2OxDwRSO4da"
   },
   "source": [
    "## **Number of columns**"
   ]
  },
  {
   "cell_type": "code",
   "execution_count": null,
   "metadata": {
    "colab": {
     "base_uri": "https://localhost:8080/"
    },
    "id": "e7svYy8xO2CK",
    "outputId": "83f9345c-9fc4-4784-b2cc-96f479ab4279"
   },
   "outputs": [
    {
     "data": {
      "text/plain": [
       "Index(['id', 'member_id', 'loan_amnt', 'funded_amnt', 'funded_amnt_inv',\n",
       "       'term', 'int_rate', 'installment', 'grade', 'sub_grade',\n",
       "       ...\n",
       "       'num_tl_90g_dpd_24m', 'num_tl_op_past_12m', 'pct_tl_nvr_dlq',\n",
       "       'percent_bc_gt_75', 'pub_rec_bankruptcies', 'tax_liens',\n",
       "       'tot_hi_cred_lim', 'total_bal_ex_mort', 'total_bc_limit',\n",
       "       'total_il_high_credit_limit'],\n",
       "      dtype='object', length=111)"
      ]
     },
     "execution_count": 8,
     "metadata": {},
     "output_type": "execute_result"
    }
   ],
   "source": [
    "df.columns"
   ]
  },
  {
   "cell_type": "markdown",
   "metadata": {
    "id": "yliIvlbYK3I6"
   },
   "source": [
    "# **Returns the number of unique values for each variable.**"
   ]
  },
  {
   "cell_type": "code",
   "execution_count": null,
   "metadata": {
    "colab": {
     "base_uri": "https://localhost:8080/"
    },
    "id": "IeVETI-s9-Y7",
    "outputId": "663ab295-0596-42ec-f4aa-9dcc2c83226f"
   },
   "outputs": [
    {
     "data": {
      "text/plain": [
       "id                            39717\n",
       "member_id                     39717\n",
       "loan_amnt                       885\n",
       "funded_amnt                    1041\n",
       "funded_amnt_inv                8205\n",
       "                              ...  \n",
       "tax_liens                         1\n",
       "tot_hi_cred_lim                   0\n",
       "total_bal_ex_mort                 0\n",
       "total_bc_limit                    0\n",
       "total_il_high_credit_limit        0\n",
       "Length: 111, dtype: int64"
      ]
     },
     "execution_count": 9,
     "metadata": {},
     "output_type": "execute_result"
    }
   ],
   "source": [
    "df.nunique(axis=0)\n"
   ]
  },
  {
   "cell_type": "code",
   "execution_count": 22,
   "metadata": {
    "colab": {
     "base_uri": "https://localhost:8080/"
    },
    "id": "YFHMSV_xLoD_",
    "outputId": "2f0a9752-7041-4eb3-a818-e9091320ad3f"
   },
   "outputs": [
    {
     "name": "stdout",
     "output_type": "stream",
     "text": [
      "<class 'pandas.core.frame.DataFrame'>\n",
      "RangeIndex: 39717 entries, 0 to 39716\n",
      "Columns: 111 entries, id to total_il_high_credit_limit\n",
      "dtypes: float64(74), int64(13), object(24)\n",
      "memory usage: 33.6+ MB\n"
     ]
    }
   ],
   "source": [
    "df.info()"
   ]
  },
  {
   "cell_type": "markdown",
   "metadata": {
    "id": "NHGhUltWKgyq"
   },
   "source": [
    "### **Summarizes the count, mean, standard deviation, min, and max for numeric variables.**"
   ]
  },
  {
   "cell_type": "code",
   "execution_count": null,
   "metadata": {
    "colab": {
     "base_uri": "https://localhost:8080/",
     "height": 314
    },
    "id": "9oVLziv3_O5C",
    "outputId": "5c4fc04b-ca15-4c54-b558-890f83a400ad"
   },
   "outputs": [
    {
     "data": {
      "text/html": [
       "\n",
       "  <div id=\"df-c5fb0349-a1b3-4373-a0fd-5ff6bd48e53f\">\n",
       "    <div class=\"colab-df-container\">\n",
       "      <div>\n",
       "<style scoped>\n",
       "    .dataframe tbody tr th:only-of-type {\n",
       "        vertical-align: middle;\n",
       "    }\n",
       "\n",
       "    .dataframe tbody tr th {\n",
       "        vertical-align: top;\n",
       "    }\n",
       "\n",
       "    .dataframe thead th {\n",
       "        text-align: right;\n",
       "    }\n",
       "</style>\n",
       "<table border=\"1\" class=\"dataframe\">\n",
       "  <thead>\n",
       "    <tr style=\"text-align: right;\">\n",
       "      <th></th>\n",
       "      <th>id</th>\n",
       "      <th>member_id</th>\n",
       "      <th>loan_amnt</th>\n",
       "      <th>funded_amnt</th>\n",
       "      <th>funded_amnt_inv</th>\n",
       "      <th>installment</th>\n",
       "      <th>annual_inc</th>\n",
       "      <th>dti</th>\n",
       "      <th>delinq_2yrs</th>\n",
       "      <th>inq_last_6mths</th>\n",
       "      <th>...</th>\n",
       "      <th>num_tl_90g_dpd_24m</th>\n",
       "      <th>num_tl_op_past_12m</th>\n",
       "      <th>pct_tl_nvr_dlq</th>\n",
       "      <th>percent_bc_gt_75</th>\n",
       "      <th>pub_rec_bankruptcies</th>\n",
       "      <th>tax_liens</th>\n",
       "      <th>tot_hi_cred_lim</th>\n",
       "      <th>total_bal_ex_mort</th>\n",
       "      <th>total_bc_limit</th>\n",
       "      <th>total_il_high_credit_limit</th>\n",
       "    </tr>\n",
       "  </thead>\n",
       "  <tbody>\n",
       "    <tr>\n",
       "      <th>count</th>\n",
       "      <td>39717.000000</td>\n",
       "      <td>39717.000000</td>\n",
       "      <td>39717.000000</td>\n",
       "      <td>39717.000000</td>\n",
       "      <td>39717.000000</td>\n",
       "      <td>39717.000000</td>\n",
       "      <td>39717.000000</td>\n",
       "      <td>39717.000000</td>\n",
       "      <td>39717.000000</td>\n",
       "      <td>39717.000000</td>\n",
       "      <td>...</td>\n",
       "      <td>0.000000</td>\n",
       "      <td>0.000000</td>\n",
       "      <td>0.000000</td>\n",
       "      <td>0.000000</td>\n",
       "      <td>39020.000000</td>\n",
       "      <td>39678.000000</td>\n",
       "      <td>0.000000</td>\n",
       "      <td>0.000000</td>\n",
       "      <td>0.000000</td>\n",
       "      <td>0.000000</td>\n",
       "    </tr>\n",
       "    <tr>\n",
       "      <th>mean</th>\n",
       "      <td>683131.913060</td>\n",
       "      <td>850463.559408</td>\n",
       "      <td>11219.443815</td>\n",
       "      <td>10947.713196</td>\n",
       "      <td>10397.448868</td>\n",
       "      <td>324.561922</td>\n",
       "      <td>68968.926377</td>\n",
       "      <td>13.315130</td>\n",
       "      <td>0.146512</td>\n",
       "      <td>0.869200</td>\n",
       "      <td>...</td>\n",
       "      <td>nan</td>\n",
       "      <td>nan</td>\n",
       "      <td>nan</td>\n",
       "      <td>nan</td>\n",
       "      <td>0.043260</td>\n",
       "      <td>0.000000</td>\n",
       "      <td>nan</td>\n",
       "      <td>nan</td>\n",
       "      <td>nan</td>\n",
       "      <td>nan</td>\n",
       "    </tr>\n",
       "    <tr>\n",
       "      <th>std</th>\n",
       "      <td>210694.132915</td>\n",
       "      <td>265678.307421</td>\n",
       "      <td>7456.670694</td>\n",
       "      <td>7187.238670</td>\n",
       "      <td>7128.450439</td>\n",
       "      <td>208.874874</td>\n",
       "      <td>63793.765790</td>\n",
       "      <td>6.678594</td>\n",
       "      <td>0.491812</td>\n",
       "      <td>1.070219</td>\n",
       "      <td>...</td>\n",
       "      <td>nan</td>\n",
       "      <td>nan</td>\n",
       "      <td>nan</td>\n",
       "      <td>nan</td>\n",
       "      <td>0.204324</td>\n",
       "      <td>0.000000</td>\n",
       "      <td>nan</td>\n",
       "      <td>nan</td>\n",
       "      <td>nan</td>\n",
       "      <td>nan</td>\n",
       "    </tr>\n",
       "    <tr>\n",
       "      <th>min</th>\n",
       "      <td>54734.000000</td>\n",
       "      <td>70699.000000</td>\n",
       "      <td>500.000000</td>\n",
       "      <td>500.000000</td>\n",
       "      <td>0.000000</td>\n",
       "      <td>15.690000</td>\n",
       "      <td>4000.000000</td>\n",
       "      <td>0.000000</td>\n",
       "      <td>0.000000</td>\n",
       "      <td>0.000000</td>\n",
       "      <td>...</td>\n",
       "      <td>nan</td>\n",
       "      <td>nan</td>\n",
       "      <td>nan</td>\n",
       "      <td>nan</td>\n",
       "      <td>0.000000</td>\n",
       "      <td>0.000000</td>\n",
       "      <td>nan</td>\n",
       "      <td>nan</td>\n",
       "      <td>nan</td>\n",
       "      <td>nan</td>\n",
       "    </tr>\n",
       "    <tr>\n",
       "      <th>25%</th>\n",
       "      <td>516221.000000</td>\n",
       "      <td>666780.000000</td>\n",
       "      <td>5500.000000</td>\n",
       "      <td>5400.000000</td>\n",
       "      <td>5000.000000</td>\n",
       "      <td>167.020000</td>\n",
       "      <td>40404.000000</td>\n",
       "      <td>8.170000</td>\n",
       "      <td>0.000000</td>\n",
       "      <td>0.000000</td>\n",
       "      <td>...</td>\n",
       "      <td>nan</td>\n",
       "      <td>nan</td>\n",
       "      <td>nan</td>\n",
       "      <td>nan</td>\n",
       "      <td>0.000000</td>\n",
       "      <td>0.000000</td>\n",
       "      <td>nan</td>\n",
       "      <td>nan</td>\n",
       "      <td>nan</td>\n",
       "      <td>nan</td>\n",
       "    </tr>\n",
       "    <tr>\n",
       "      <th>50%</th>\n",
       "      <td>665665.000000</td>\n",
       "      <td>850812.000000</td>\n",
       "      <td>10000.000000</td>\n",
       "      <td>9600.000000</td>\n",
       "      <td>8975.000000</td>\n",
       "      <td>280.220000</td>\n",
       "      <td>59000.000000</td>\n",
       "      <td>13.400000</td>\n",
       "      <td>0.000000</td>\n",
       "      <td>1.000000</td>\n",
       "      <td>...</td>\n",
       "      <td>nan</td>\n",
       "      <td>nan</td>\n",
       "      <td>nan</td>\n",
       "      <td>nan</td>\n",
       "      <td>0.000000</td>\n",
       "      <td>0.000000</td>\n",
       "      <td>nan</td>\n",
       "      <td>nan</td>\n",
       "      <td>nan</td>\n",
       "      <td>nan</td>\n",
       "    </tr>\n",
       "    <tr>\n",
       "      <th>75%</th>\n",
       "      <td>837755.000000</td>\n",
       "      <td>1047339.000000</td>\n",
       "      <td>15000.000000</td>\n",
       "      <td>15000.000000</td>\n",
       "      <td>14400.000000</td>\n",
       "      <td>430.780000</td>\n",
       "      <td>82300.000000</td>\n",
       "      <td>18.600000</td>\n",
       "      <td>0.000000</td>\n",
       "      <td>1.000000</td>\n",
       "      <td>...</td>\n",
       "      <td>nan</td>\n",
       "      <td>nan</td>\n",
       "      <td>nan</td>\n",
       "      <td>nan</td>\n",
       "      <td>0.000000</td>\n",
       "      <td>0.000000</td>\n",
       "      <td>nan</td>\n",
       "      <td>nan</td>\n",
       "      <td>nan</td>\n",
       "      <td>nan</td>\n",
       "    </tr>\n",
       "    <tr>\n",
       "      <th>max</th>\n",
       "      <td>1077501.000000</td>\n",
       "      <td>1314167.000000</td>\n",
       "      <td>35000.000000</td>\n",
       "      <td>35000.000000</td>\n",
       "      <td>35000.000000</td>\n",
       "      <td>1305.190000</td>\n",
       "      <td>6000000.000000</td>\n",
       "      <td>29.990000</td>\n",
       "      <td>11.000000</td>\n",
       "      <td>8.000000</td>\n",
       "      <td>...</td>\n",
       "      <td>nan</td>\n",
       "      <td>nan</td>\n",
       "      <td>nan</td>\n",
       "      <td>nan</td>\n",
       "      <td>2.000000</td>\n",
       "      <td>0.000000</td>\n",
       "      <td>nan</td>\n",
       "      <td>nan</td>\n",
       "      <td>nan</td>\n",
       "      <td>nan</td>\n",
       "    </tr>\n",
       "  </tbody>\n",
       "</table>\n",
       "<p>8 rows × 87 columns</p>\n",
       "</div>\n",
       "      <button class=\"colab-df-convert\" onclick=\"convertToInteractive('df-c5fb0349-a1b3-4373-a0fd-5ff6bd48e53f')\"\n",
       "              title=\"Convert this dataframe to an interactive table.\"\n",
       "              style=\"display:none;\">\n",
       "        \n",
       "  <svg xmlns=\"http://www.w3.org/2000/svg\" height=\"24px\"viewBox=\"0 0 24 24\"\n",
       "       width=\"24px\">\n",
       "    <path d=\"M0 0h24v24H0V0z\" fill=\"none\"/>\n",
       "    <path d=\"M18.56 5.44l.94 2.06.94-2.06 2.06-.94-2.06-.94-.94-2.06-.94 2.06-2.06.94zm-11 1L8.5 8.5l.94-2.06 2.06-.94-2.06-.94L8.5 2.5l-.94 2.06-2.06.94zm10 10l.94 2.06.94-2.06 2.06-.94-2.06-.94-.94-2.06-.94 2.06-2.06.94z\"/><path d=\"M17.41 7.96l-1.37-1.37c-.4-.4-.92-.59-1.43-.59-.52 0-1.04.2-1.43.59L10.3 9.45l-7.72 7.72c-.78.78-.78 2.05 0 2.83L4 21.41c.39.39.9.59 1.41.59.51 0 1.02-.2 1.41-.59l7.78-7.78 2.81-2.81c.8-.78.8-2.07 0-2.86zM5.41 20L4 18.59l7.72-7.72 1.47 1.35L5.41 20z\"/>\n",
       "  </svg>\n",
       "      </button>\n",
       "      \n",
       "  <style>\n",
       "    .colab-df-container {\n",
       "      display:flex;\n",
       "      flex-wrap:wrap;\n",
       "      gap: 12px;\n",
       "    }\n",
       "\n",
       "    .colab-df-convert {\n",
       "      background-color: #E8F0FE;\n",
       "      border: none;\n",
       "      border-radius: 50%;\n",
       "      cursor: pointer;\n",
       "      display: none;\n",
       "      fill: #1967D2;\n",
       "      height: 32px;\n",
       "      padding: 0 0 0 0;\n",
       "      width: 32px;\n",
       "    }\n",
       "\n",
       "    .colab-df-convert:hover {\n",
       "      background-color: #E2EBFA;\n",
       "      box-shadow: 0px 1px 2px rgba(60, 64, 67, 0.3), 0px 1px 3px 1px rgba(60, 64, 67, 0.15);\n",
       "      fill: #174EA6;\n",
       "    }\n",
       "\n",
       "    [theme=dark] .colab-df-convert {\n",
       "      background-color: #3B4455;\n",
       "      fill: #D2E3FC;\n",
       "    }\n",
       "\n",
       "    [theme=dark] .colab-df-convert:hover {\n",
       "      background-color: #434B5C;\n",
       "      box-shadow: 0px 1px 3px 1px rgba(0, 0, 0, 0.15);\n",
       "      filter: drop-shadow(0px 1px 2px rgba(0, 0, 0, 0.3));\n",
       "      fill: #FFFFFF;\n",
       "    }\n",
       "  </style>\n",
       "\n",
       "      <script>\n",
       "        const buttonEl =\n",
       "          document.querySelector('#df-c5fb0349-a1b3-4373-a0fd-5ff6bd48e53f button.colab-df-convert');\n",
       "        buttonEl.style.display =\n",
       "          google.colab.kernel.accessAllowed ? 'block' : 'none';\n",
       "\n",
       "        async function convertToInteractive(key) {\n",
       "          const element = document.querySelector('#df-c5fb0349-a1b3-4373-a0fd-5ff6bd48e53f');\n",
       "          const dataTable =\n",
       "            await google.colab.kernel.invokeFunction('convertToInteractive',\n",
       "                                                     [key], {});\n",
       "          if (!dataTable) return;\n",
       "\n",
       "          const docLinkHtml = 'Like what you see? Visit the ' +\n",
       "            '<a target=\"_blank\" href=https://colab.research.google.com/notebooks/data_table.ipynb>data table notebook</a>'\n",
       "            + ' to learn more about interactive tables.';\n",
       "          element.innerHTML = '';\n",
       "          dataTable['output_type'] = 'display_data';\n",
       "          await google.colab.output.renderOutput(dataTable, element);\n",
       "          const docLink = document.createElement('div');\n",
       "          docLink.innerHTML = docLinkHtml;\n",
       "          element.appendChild(docLink);\n",
       "        }\n",
       "      </script>\n",
       "    </div>\n",
       "  </div>\n",
       "  "
      ],
      "text/plain": [
       "                   id       member_id     loan_amnt   funded_amnt  \\\n",
       "count    39717.000000    39717.000000  39717.000000  39717.000000   \n",
       "mean    683131.913060   850463.559408  11219.443815  10947.713196   \n",
       "std     210694.132915   265678.307421   7456.670694   7187.238670   \n",
       "min      54734.000000    70699.000000    500.000000    500.000000   \n",
       "25%     516221.000000   666780.000000   5500.000000   5400.000000   \n",
       "50%     665665.000000   850812.000000  10000.000000   9600.000000   \n",
       "75%     837755.000000  1047339.000000  15000.000000  15000.000000   \n",
       "max    1077501.000000  1314167.000000  35000.000000  35000.000000   \n",
       "\n",
       "      funded_amnt_inv   installment      annual_inc           dti  \\\n",
       "count    39717.000000  39717.000000    39717.000000  39717.000000   \n",
       "mean     10397.448868    324.561922    68968.926377     13.315130   \n",
       "std       7128.450439    208.874874    63793.765790      6.678594   \n",
       "min          0.000000     15.690000     4000.000000      0.000000   \n",
       "25%       5000.000000    167.020000    40404.000000      8.170000   \n",
       "50%       8975.000000    280.220000    59000.000000     13.400000   \n",
       "75%      14400.000000    430.780000    82300.000000     18.600000   \n",
       "max      35000.000000   1305.190000  6000000.000000     29.990000   \n",
       "\n",
       "        delinq_2yrs inq_last_6mths  ... num_tl_90g_dpd_24m num_tl_op_past_12m  \\\n",
       "count  39717.000000   39717.000000  ...           0.000000           0.000000   \n",
       "mean       0.146512       0.869200  ...                nan                nan   \n",
       "std        0.491812       1.070219  ...                nan                nan   \n",
       "min        0.000000       0.000000  ...                nan                nan   \n",
       "25%        0.000000       0.000000  ...                nan                nan   \n",
       "50%        0.000000       1.000000  ...                nan                nan   \n",
       "75%        0.000000       1.000000  ...                nan                nan   \n",
       "max       11.000000       8.000000  ...                nan                nan   \n",
       "\n",
       "      pct_tl_nvr_dlq percent_bc_gt_75 pub_rec_bankruptcies     tax_liens  \\\n",
       "count       0.000000         0.000000         39020.000000  39678.000000   \n",
       "mean             nan              nan             0.043260      0.000000   \n",
       "std              nan              nan             0.204324      0.000000   \n",
       "min              nan              nan             0.000000      0.000000   \n",
       "25%              nan              nan             0.000000      0.000000   \n",
       "50%              nan              nan             0.000000      0.000000   \n",
       "75%              nan              nan             0.000000      0.000000   \n",
       "max              nan              nan             2.000000      0.000000   \n",
       "\n",
       "      tot_hi_cred_lim total_bal_ex_mort total_bc_limit  \\\n",
       "count        0.000000          0.000000       0.000000   \n",
       "mean              nan               nan            nan   \n",
       "std               nan               nan            nan   \n",
       "min               nan               nan            nan   \n",
       "25%               nan               nan            nan   \n",
       "50%               nan               nan            nan   \n",
       "75%               nan               nan            nan   \n",
       "max               nan               nan            nan   \n",
       "\n",
       "      total_il_high_credit_limit  \n",
       "count                   0.000000  \n",
       "mean                         nan  \n",
       "std                          nan  \n",
       "min                          nan  \n",
       "25%                          nan  \n",
       "50%                          nan  \n",
       "75%                          nan  \n",
       "max                          nan  \n",
       "\n",
       "[8 rows x 87 columns]"
      ]
     },
     "execution_count": 12,
     "metadata": {},
     "output_type": "execute_result"
    },
    {
     "name": "stdout",
     "output_type": "stream",
     "text": [
      "Warning: Total number of columns (87) exceeds max_columns (20) limiting to first (20) columns.\n"
     ]
    }
   ],
   "source": [
    "df.describe().apply(lambda s: s.apply(lambda x: format(x, 'f')))"
   ]
  },
  {
   "cell_type": "code",
   "execution_count": null,
   "metadata": {
    "id": "lEQ0QL2rKefT"
   },
   "outputs": [],
   "source": [
    "df = df.drop(df.columns[[55]], axis=1)"
   ]
  },
  {
   "cell_type": "code",
   "execution_count": null,
   "metadata": {
    "id": "2UxlfpFAbhcO"
   },
   "outputs": [],
   "source": [
    "df=df.dropna(axis=1)"
   ]
  },
  {
   "cell_type": "code",
   "execution_count": null,
   "metadata": {
    "colab": {
     "base_uri": "https://localhost:8080/"
    },
    "id": "VQ-UpouX5x42",
    "outputId": "018efe0e-3cf7-4413-b3dc-8f1d4f4a9418"
   },
   "outputs": [
    {
     "data": {
      "text/plain": [
       "<bound method NDFrame.describe of             id  member_id  loan_amnt  funded_amnt  funded_amnt_inv  \\\n",
       "0      1077501    1296599       5000         5000           4975.0   \n",
       "1      1077430    1314167       2500         2500           2500.0   \n",
       "2      1077175    1313524       2400         2400           2400.0   \n",
       "3      1076863    1277178      10000        10000          10000.0   \n",
       "4      1075358    1311748       3000         3000           3000.0   \n",
       "...        ...        ...        ...          ...              ...   \n",
       "39712    92187      92174       2500         2500           1075.0   \n",
       "39713    90665      90607       8500         8500            875.0   \n",
       "39714    90395      90390       5000         5000           1325.0   \n",
       "39715    90376      89243       5000         5000            650.0   \n",
       "39716    87023      86999       7500         7500            800.0   \n",
       "\n",
       "             term int_rate  installment grade sub_grade  ... total_rec_prncp  \\\n",
       "0       36 months   10.65%       162.87     B        B2  ...         5000.00   \n",
       "1       60 months   15.27%        59.83     C        C4  ...          456.46   \n",
       "2       36 months   15.96%        84.33     C        C5  ...         2400.00   \n",
       "3       36 months   13.49%       339.31     C        C1  ...        10000.00   \n",
       "4       60 months   12.69%        67.79     B        B5  ...         2475.94   \n",
       "...           ...      ...          ...   ...       ...  ...             ...   \n",
       "39712   36 months    8.07%        78.42     A        A4  ...         2500.00   \n",
       "39713   36 months   10.28%       275.38     C        C1  ...         8500.00   \n",
       "39714   36 months    8.07%       156.84     A        A4  ...         5000.00   \n",
       "39715   36 months    7.43%       155.38     A        A2  ...         5000.00   \n",
       "39716   36 months   13.75%       255.43     E        E2  ...         7500.00   \n",
       "\n",
       "       total_rec_int total_rec_late_fee recoveries collection_recovery_fee  \\\n",
       "0             863.16               0.00       0.00                    0.00   \n",
       "1             435.17               0.00     117.08                    1.11   \n",
       "2             605.67               0.00       0.00                    0.00   \n",
       "3            2214.92              16.97       0.00                    0.00   \n",
       "4            1037.39               0.00       0.00                    0.00   \n",
       "...              ...                ...        ...                     ...   \n",
       "39712         322.97               0.00       0.00                    0.00   \n",
       "39713        1413.49               0.00       0.00                    0.00   \n",
       "39714         272.16               0.00       0.00                    0.00   \n",
       "39715         174.20               0.00       0.00                    0.00   \n",
       "39716        1695.26               0.00       0.00                    0.00   \n",
       "\n",
       "      last_pymnt_amnt policy_code application_type acc_now_delinq delinq_amnt  \n",
       "0              171.62           1       INDIVIDUAL              0           0  \n",
       "1              119.66           1       INDIVIDUAL              0           0  \n",
       "2              649.91           1       INDIVIDUAL              0           0  \n",
       "3              357.48           1       INDIVIDUAL              0           0  \n",
       "4               67.79           1       INDIVIDUAL              0           0  \n",
       "...               ...         ...              ...            ...         ...  \n",
       "39712           80.90           1       INDIVIDUAL              0           0  \n",
       "39713          281.94           1       INDIVIDUAL              0           0  \n",
       "39714            0.00           1       INDIVIDUAL              0           0  \n",
       "39715            0.00           1       INDIVIDUAL              0           0  \n",
       "39716          256.59           1       INDIVIDUAL              0           0  \n",
       "\n",
       "[39717 rows x 43 columns]>"
      ]
     },
     "execution_count": 12,
     "metadata": {},
     "output_type": "execute_result"
    }
   ],
   "source": [
    "df.describe"
   ]
  },
  {
   "cell_type": "code",
   "execution_count": null,
   "metadata": {
    "colab": {
     "base_uri": "https://localhost:8080/"
    },
    "id": "WTNWCSRb-OvM",
    "outputId": "c9a12806-43b1-4e61-9e2a-a8abf904c198"
   },
   "outputs": [
    {
     "name": "stdout",
     "output_type": "stream",
     "text": [
      "id 39717\n",
      "member_id 39717\n",
      "loan_amnt 885\n",
      "funded_amnt 1041\n",
      "funded_amnt_inv 8205\n",
      "term 2\n",
      "int_rate 371\n",
      "installment 15383\n",
      "grade 7\n",
      "sub_grade 35\n",
      "home_ownership 5\n",
      "annual_inc 5318\n",
      "verification_status 3\n",
      "issue_d 55\n",
      "loan_status 3\n",
      "pymnt_plan 1\n",
      "url 39717\n",
      "purpose 14\n",
      "zip_code 823\n",
      "addr_state 50\n",
      "dti 2868\n",
      "delinq_2yrs 11\n",
      "earliest_cr_line 526\n",
      "inq_last_6mths 9\n",
      "open_acc 40\n",
      "pub_rec 5\n",
      "revol_bal 21711\n",
      "total_acc 82\n",
      "initial_list_status 1\n",
      "out_prncp 1137\n",
      "out_prncp_inv 1138\n",
      "total_pymnt 37850\n",
      "total_pymnt_inv 37518\n",
      "total_rec_prncp 7976\n",
      "total_rec_int 35148\n",
      "total_rec_late_fee 1356\n",
      "recoveries 4040\n",
      "collection_recovery_fee 2616\n",
      "last_pymnt_amnt 34930\n",
      "policy_code 1\n",
      "application_type 1\n",
      "acc_now_delinq 1\n",
      "delinq_amnt 1\n"
     ]
    }
   ],
   "source": [
    "for i in df.columns:\n",
    "  print(i,df[i].nunique())"
   ]
  },
  {
   "cell_type": "code",
   "execution_count": null,
   "metadata": {
    "colab": {
     "base_uri": "https://localhost:8080/"
    },
    "id": "s7tUemmo6lSF",
    "outputId": "1be48e0a-1d34-4e40-ca00-7403c104559c"
   },
   "outputs": [
    {
     "name": "stdout",
     "output_type": "stream",
     "text": [
      "<class 'pandas.core.frame.DataFrame'>\n",
      "RangeIndex: 39717 entries, 0 to 39716\n",
      "Data columns (total 43 columns):\n",
      " #   Column                   Non-Null Count  Dtype  \n",
      "---  ------                   --------------  -----  \n",
      " 0   id                       39717 non-null  int64  \n",
      " 1   member_id                39717 non-null  int64  \n",
      " 2   loan_amnt                39717 non-null  int64  \n",
      " 3   funded_amnt              39717 non-null  int64  \n",
      " 4   funded_amnt_inv          39717 non-null  float64\n",
      " 5   term                     39717 non-null  object \n",
      " 6   int_rate                 39717 non-null  object \n",
      " 7   installment              39717 non-null  float64\n",
      " 8   grade                    39717 non-null  object \n",
      " 9   sub_grade                39717 non-null  object \n",
      " 10  home_ownership           39717 non-null  object \n",
      " 11  annual_inc               39717 non-null  float64\n",
      " 12  verification_status      39717 non-null  object \n",
      " 13  issue_d                  39717 non-null  object \n",
      " 14  loan_status              39717 non-null  object \n",
      " 15  pymnt_plan               39717 non-null  object \n",
      " 16  url                      39717 non-null  object \n",
      " 17  purpose                  39717 non-null  object \n",
      " 18  zip_code                 39717 non-null  object \n",
      " 19  addr_state               39717 non-null  object \n",
      " 20  dti                      39717 non-null  float64\n",
      " 21  delinq_2yrs              39717 non-null  int64  \n",
      " 22  earliest_cr_line         39717 non-null  object \n",
      " 23  inq_last_6mths           39717 non-null  int64  \n",
      " 24  open_acc                 39717 non-null  int64  \n",
      " 25  pub_rec                  39717 non-null  int64  \n",
      " 26  revol_bal                39717 non-null  int64  \n",
      " 27  total_acc                39717 non-null  int64  \n",
      " 28  initial_list_status      39717 non-null  object \n",
      " 29  out_prncp                39717 non-null  float64\n",
      " 30  out_prncp_inv            39717 non-null  float64\n",
      " 31  total_pymnt              39717 non-null  float64\n",
      " 32  total_pymnt_inv          39717 non-null  float64\n",
      " 33  total_rec_prncp          39717 non-null  float64\n",
      " 34  total_rec_int            39717 non-null  float64\n",
      " 35  total_rec_late_fee       39717 non-null  float64\n",
      " 36  recoveries               39717 non-null  float64\n",
      " 37  collection_recovery_fee  39717 non-null  float64\n",
      " 38  last_pymnt_amnt          39717 non-null  float64\n",
      " 39  policy_code              39717 non-null  int64  \n",
      " 40  application_type         39717 non-null  object \n",
      " 41  acc_now_delinq           39717 non-null  int64  \n",
      " 42  delinq_amnt              39717 non-null  int64  \n",
      "dtypes: float64(14), int64(13), object(16)\n",
      "memory usage: 13.0+ MB\n"
     ]
    }
   ],
   "source": [
    "df.info()"
   ]
  },
  {
   "cell_type": "code",
   "execution_count": null,
   "metadata": {
    "colab": {
     "base_uri": "https://localhost:8080/"
    },
    "id": "fEtuzQQv65zk",
    "outputId": "8d7bf005-8121-471d-b773-c1b9fcc0d862"
   },
   "outputs": [
    {
     "data": {
      "text/plain": [
       "id                         0.0\n",
       "member_id                  0.0\n",
       "loan_amnt                  0.0\n",
       "funded_amnt                0.0\n",
       "funded_amnt_inv            0.0\n",
       "term                       0.0\n",
       "int_rate                   0.0\n",
       "installment                0.0\n",
       "grade                      0.0\n",
       "sub_grade                  0.0\n",
       "home_ownership             0.0\n",
       "annual_inc                 0.0\n",
       "verification_status        0.0\n",
       "issue_d                    0.0\n",
       "loan_status                0.0\n",
       "pymnt_plan                 0.0\n",
       "url                        0.0\n",
       "purpose                    0.0\n",
       "zip_code                   0.0\n",
       "addr_state                 0.0\n",
       "dti                        0.0\n",
       "delinq_2yrs                0.0\n",
       "earliest_cr_line           0.0\n",
       "inq_last_6mths             0.0\n",
       "open_acc                   0.0\n",
       "pub_rec                    0.0\n",
       "revol_bal                  0.0\n",
       "total_acc                  0.0\n",
       "initial_list_status        0.0\n",
       "out_prncp                  0.0\n",
       "out_prncp_inv              0.0\n",
       "total_pymnt                0.0\n",
       "total_pymnt_inv            0.0\n",
       "total_rec_prncp            0.0\n",
       "total_rec_int              0.0\n",
       "total_rec_late_fee         0.0\n",
       "recoveries                 0.0\n",
       "collection_recovery_fee    0.0\n",
       "last_pymnt_amnt            0.0\n",
       "policy_code                0.0\n",
       "application_type           0.0\n",
       "acc_now_delinq             0.0\n",
       "delinq_amnt                0.0\n",
       "dtype: float64"
      ]
     },
     "execution_count": 15,
     "metadata": {},
     "output_type": "execute_result"
    }
   ],
   "source": [
    "df.isnull().mean()"
   ]
  },
  {
   "cell_type": "code",
   "execution_count": null,
   "metadata": {
    "id": "zDx1xMRX7tjE"
   },
   "outputs": [],
   "source": [
    "for i in df.columns:\n",
    "  print(i,df[i].nunique())"
   ]
  },
  {
   "cell_type": "code",
   "execution_count": null,
   "metadata": {
    "colab": {
     "base_uri": "https://localhost:8080/",
     "height": 394
    },
    "id": "5QaVDk2f8J9N",
    "outputId": "1e380fd3-8ef5-473d-d148-11ba116d06f5"
   },
   "outputs": [
    {
     "data": {
      "text/html": [
       "\n",
       "  <div id=\"df-8730d2ba-f07b-46af-a51b-3ec8333d2b6f\">\n",
       "    <div class=\"colab-df-container\">\n",
       "      <div>\n",
       "<style scoped>\n",
       "    .dataframe tbody tr th:only-of-type {\n",
       "        vertical-align: middle;\n",
       "    }\n",
       "\n",
       "    .dataframe tbody tr th {\n",
       "        vertical-align: top;\n",
       "    }\n",
       "\n",
       "    .dataframe thead th {\n",
       "        text-align: right;\n",
       "    }\n",
       "</style>\n",
       "<table border=\"1\" class=\"dataframe\">\n",
       "  <thead>\n",
       "    <tr style=\"text-align: right;\">\n",
       "      <th></th>\n",
       "      <th>id</th>\n",
       "      <th>member_id</th>\n",
       "      <th>loan_amnt</th>\n",
       "      <th>funded_amnt</th>\n",
       "      <th>funded_amnt_inv</th>\n",
       "      <th>installment</th>\n",
       "      <th>annual_inc</th>\n",
       "      <th>dti</th>\n",
       "      <th>delinq_2yrs</th>\n",
       "      <th>inq_last_6mths</th>\n",
       "      <th>...</th>\n",
       "      <th>total_pymnt_inv</th>\n",
       "      <th>total_rec_prncp</th>\n",
       "      <th>total_rec_int</th>\n",
       "      <th>total_rec_late_fee</th>\n",
       "      <th>recoveries</th>\n",
       "      <th>collection_recovery_fee</th>\n",
       "      <th>last_pymnt_amnt</th>\n",
       "      <th>policy_code</th>\n",
       "      <th>acc_now_delinq</th>\n",
       "      <th>delinq_amnt</th>\n",
       "    </tr>\n",
       "  </thead>\n",
       "  <tbody>\n",
       "    <tr>\n",
       "      <th>count</th>\n",
       "      <td>3.971700e+04</td>\n",
       "      <td>3.971700e+04</td>\n",
       "      <td>39717.000000</td>\n",
       "      <td>39717.000000</td>\n",
       "      <td>39717.000000</td>\n",
       "      <td>39717.000000</td>\n",
       "      <td>3.971700e+04</td>\n",
       "      <td>39717.000000</td>\n",
       "      <td>39717.000000</td>\n",
       "      <td>39717.000000</td>\n",
       "      <td>...</td>\n",
       "      <td>39717.000000</td>\n",
       "      <td>39717.000000</td>\n",
       "      <td>39717.000000</td>\n",
       "      <td>39717.000000</td>\n",
       "      <td>39717.000000</td>\n",
       "      <td>39717.000000</td>\n",
       "      <td>39717.000000</td>\n",
       "      <td>39717.0</td>\n",
       "      <td>39717.0</td>\n",
       "      <td>39717.0</td>\n",
       "    </tr>\n",
       "    <tr>\n",
       "      <th>mean</th>\n",
       "      <td>6.831319e+05</td>\n",
       "      <td>8.504636e+05</td>\n",
       "      <td>11219.443815</td>\n",
       "      <td>10947.713196</td>\n",
       "      <td>10397.448868</td>\n",
       "      <td>324.561922</td>\n",
       "      <td>6.896893e+04</td>\n",
       "      <td>13.315130</td>\n",
       "      <td>0.146512</td>\n",
       "      <td>0.869200</td>\n",
       "      <td>...</td>\n",
       "      <td>11567.149118</td>\n",
       "      <td>9793.348813</td>\n",
       "      <td>2263.663172</td>\n",
       "      <td>1.363015</td>\n",
       "      <td>95.221624</td>\n",
       "      <td>12.406112</td>\n",
       "      <td>2678.826162</td>\n",
       "      <td>1.0</td>\n",
       "      <td>0.0</td>\n",
       "      <td>0.0</td>\n",
       "    </tr>\n",
       "    <tr>\n",
       "      <th>std</th>\n",
       "      <td>2.106941e+05</td>\n",
       "      <td>2.656783e+05</td>\n",
       "      <td>7456.670694</td>\n",
       "      <td>7187.238670</td>\n",
       "      <td>7128.450439</td>\n",
       "      <td>208.874874</td>\n",
       "      <td>6.379377e+04</td>\n",
       "      <td>6.678594</td>\n",
       "      <td>0.491812</td>\n",
       "      <td>1.070219</td>\n",
       "      <td>...</td>\n",
       "      <td>8942.672613</td>\n",
       "      <td>7065.522127</td>\n",
       "      <td>2608.111964</td>\n",
       "      <td>7.289979</td>\n",
       "      <td>688.744771</td>\n",
       "      <td>148.671593</td>\n",
       "      <td>4447.136012</td>\n",
       "      <td>0.0</td>\n",
       "      <td>0.0</td>\n",
       "      <td>0.0</td>\n",
       "    </tr>\n",
       "    <tr>\n",
       "      <th>min</th>\n",
       "      <td>5.473400e+04</td>\n",
       "      <td>7.069900e+04</td>\n",
       "      <td>500.000000</td>\n",
       "      <td>500.000000</td>\n",
       "      <td>0.000000</td>\n",
       "      <td>15.690000</td>\n",
       "      <td>4.000000e+03</td>\n",
       "      <td>0.000000</td>\n",
       "      <td>0.000000</td>\n",
       "      <td>0.000000</td>\n",
       "      <td>...</td>\n",
       "      <td>0.000000</td>\n",
       "      <td>0.000000</td>\n",
       "      <td>0.000000</td>\n",
       "      <td>0.000000</td>\n",
       "      <td>0.000000</td>\n",
       "      <td>0.000000</td>\n",
       "      <td>0.000000</td>\n",
       "      <td>1.0</td>\n",
       "      <td>0.0</td>\n",
       "      <td>0.0</td>\n",
       "    </tr>\n",
       "    <tr>\n",
       "      <th>25%</th>\n",
       "      <td>5.162210e+05</td>\n",
       "      <td>6.667800e+05</td>\n",
       "      <td>5500.000000</td>\n",
       "      <td>5400.000000</td>\n",
       "      <td>5000.000000</td>\n",
       "      <td>167.020000</td>\n",
       "      <td>4.040400e+04</td>\n",
       "      <td>8.170000</td>\n",
       "      <td>0.000000</td>\n",
       "      <td>0.000000</td>\n",
       "      <td>...</td>\n",
       "      <td>5112.310000</td>\n",
       "      <td>4600.000000</td>\n",
       "      <td>662.180000</td>\n",
       "      <td>0.000000</td>\n",
       "      <td>0.000000</td>\n",
       "      <td>0.000000</td>\n",
       "      <td>218.680000</td>\n",
       "      <td>1.0</td>\n",
       "      <td>0.0</td>\n",
       "      <td>0.0</td>\n",
       "    </tr>\n",
       "    <tr>\n",
       "      <th>50%</th>\n",
       "      <td>6.656650e+05</td>\n",
       "      <td>8.508120e+05</td>\n",
       "      <td>10000.000000</td>\n",
       "      <td>9600.000000</td>\n",
       "      <td>8975.000000</td>\n",
       "      <td>280.220000</td>\n",
       "      <td>5.900000e+04</td>\n",
       "      <td>13.400000</td>\n",
       "      <td>0.000000</td>\n",
       "      <td>1.000000</td>\n",
       "      <td>...</td>\n",
       "      <td>9287.150000</td>\n",
       "      <td>8000.000000</td>\n",
       "      <td>1348.910000</td>\n",
       "      <td>0.000000</td>\n",
       "      <td>0.000000</td>\n",
       "      <td>0.000000</td>\n",
       "      <td>546.140000</td>\n",
       "      <td>1.0</td>\n",
       "      <td>0.0</td>\n",
       "      <td>0.0</td>\n",
       "    </tr>\n",
       "    <tr>\n",
       "      <th>75%</th>\n",
       "      <td>8.377550e+05</td>\n",
       "      <td>1.047339e+06</td>\n",
       "      <td>15000.000000</td>\n",
       "      <td>15000.000000</td>\n",
       "      <td>14400.000000</td>\n",
       "      <td>430.780000</td>\n",
       "      <td>8.230000e+04</td>\n",
       "      <td>18.600000</td>\n",
       "      <td>0.000000</td>\n",
       "      <td>1.000000</td>\n",
       "      <td>...</td>\n",
       "      <td>15798.810000</td>\n",
       "      <td>13653.260000</td>\n",
       "      <td>2833.400000</td>\n",
       "      <td>0.000000</td>\n",
       "      <td>0.000000</td>\n",
       "      <td>0.000000</td>\n",
       "      <td>3293.160000</td>\n",
       "      <td>1.0</td>\n",
       "      <td>0.0</td>\n",
       "      <td>0.0</td>\n",
       "    </tr>\n",
       "    <tr>\n",
       "      <th>max</th>\n",
       "      <td>1.077501e+06</td>\n",
       "      <td>1.314167e+06</td>\n",
       "      <td>35000.000000</td>\n",
       "      <td>35000.000000</td>\n",
       "      <td>35000.000000</td>\n",
       "      <td>1305.190000</td>\n",
       "      <td>6.000000e+06</td>\n",
       "      <td>29.990000</td>\n",
       "      <td>11.000000</td>\n",
       "      <td>8.000000</td>\n",
       "      <td>...</td>\n",
       "      <td>58563.680000</td>\n",
       "      <td>35000.020000</td>\n",
       "      <td>23563.680000</td>\n",
       "      <td>180.200000</td>\n",
       "      <td>29623.350000</td>\n",
       "      <td>7002.190000</td>\n",
       "      <td>36115.200000</td>\n",
       "      <td>1.0</td>\n",
       "      <td>0.0</td>\n",
       "      <td>0.0</td>\n",
       "    </tr>\n",
       "  </tbody>\n",
       "</table>\n",
       "<p>8 rows × 27 columns</p>\n",
       "</div>\n",
       "      <button class=\"colab-df-convert\" onclick=\"convertToInteractive('df-8730d2ba-f07b-46af-a51b-3ec8333d2b6f')\"\n",
       "              title=\"Convert this dataframe to an interactive table.\"\n",
       "              style=\"display:none;\">\n",
       "        \n",
       "  <svg xmlns=\"http://www.w3.org/2000/svg\" height=\"24px\"viewBox=\"0 0 24 24\"\n",
       "       width=\"24px\">\n",
       "    <path d=\"M0 0h24v24H0V0z\" fill=\"none\"/>\n",
       "    <path d=\"M18.56 5.44l.94 2.06.94-2.06 2.06-.94-2.06-.94-.94-2.06-.94 2.06-2.06.94zm-11 1L8.5 8.5l.94-2.06 2.06-.94-2.06-.94L8.5 2.5l-.94 2.06-2.06.94zm10 10l.94 2.06.94-2.06 2.06-.94-2.06-.94-.94-2.06-.94 2.06-2.06.94z\"/><path d=\"M17.41 7.96l-1.37-1.37c-.4-.4-.92-.59-1.43-.59-.52 0-1.04.2-1.43.59L10.3 9.45l-7.72 7.72c-.78.78-.78 2.05 0 2.83L4 21.41c.39.39.9.59 1.41.59.51 0 1.02-.2 1.41-.59l7.78-7.78 2.81-2.81c.8-.78.8-2.07 0-2.86zM5.41 20L4 18.59l7.72-7.72 1.47 1.35L5.41 20z\"/>\n",
       "  </svg>\n",
       "      </button>\n",
       "      \n",
       "  <style>\n",
       "    .colab-df-container {\n",
       "      display:flex;\n",
       "      flex-wrap:wrap;\n",
       "      gap: 12px;\n",
       "    }\n",
       "\n",
       "    .colab-df-convert {\n",
       "      background-color: #E8F0FE;\n",
       "      border: none;\n",
       "      border-radius: 50%;\n",
       "      cursor: pointer;\n",
       "      display: none;\n",
       "      fill: #1967D2;\n",
       "      height: 32px;\n",
       "      padding: 0 0 0 0;\n",
       "      width: 32px;\n",
       "    }\n",
       "\n",
       "    .colab-df-convert:hover {\n",
       "      background-color: #E2EBFA;\n",
       "      box-shadow: 0px 1px 2px rgba(60, 64, 67, 0.3), 0px 1px 3px 1px rgba(60, 64, 67, 0.15);\n",
       "      fill: #174EA6;\n",
       "    }\n",
       "\n",
       "    [theme=dark] .colab-df-convert {\n",
       "      background-color: #3B4455;\n",
       "      fill: #D2E3FC;\n",
       "    }\n",
       "\n",
       "    [theme=dark] .colab-df-convert:hover {\n",
       "      background-color: #434B5C;\n",
       "      box-shadow: 0px 1px 3px 1px rgba(0, 0, 0, 0.15);\n",
       "      filter: drop-shadow(0px 1px 2px rgba(0, 0, 0, 0.3));\n",
       "      fill: #FFFFFF;\n",
       "    }\n",
       "  </style>\n",
       "\n",
       "      <script>\n",
       "        const buttonEl =\n",
       "          document.querySelector('#df-8730d2ba-f07b-46af-a51b-3ec8333d2b6f button.colab-df-convert');\n",
       "        buttonEl.style.display =\n",
       "          google.colab.kernel.accessAllowed ? 'block' : 'none';\n",
       "\n",
       "        async function convertToInteractive(key) {\n",
       "          const element = document.querySelector('#df-8730d2ba-f07b-46af-a51b-3ec8333d2b6f');\n",
       "          const dataTable =\n",
       "            await google.colab.kernel.invokeFunction('convertToInteractive',\n",
       "                                                     [key], {});\n",
       "          if (!dataTable) return;\n",
       "\n",
       "          const docLinkHtml = 'Like what you see? Visit the ' +\n",
       "            '<a target=\"_blank\" href=https://colab.research.google.com/notebooks/data_table.ipynb>data table notebook</a>'\n",
       "            + ' to learn more about interactive tables.';\n",
       "          element.innerHTML = '';\n",
       "          dataTable['output_type'] = 'display_data';\n",
       "          await google.colab.output.renderOutput(dataTable, element);\n",
       "          const docLink = document.createElement('div');\n",
       "          docLink.innerHTML = docLinkHtml;\n",
       "          element.appendChild(docLink);\n",
       "        }\n",
       "      </script>\n",
       "    </div>\n",
       "  </div>\n",
       "  "
      ],
      "text/plain": [
       "                 id     member_id     loan_amnt   funded_amnt  \\\n",
       "count  3.971700e+04  3.971700e+04  39717.000000  39717.000000   \n",
       "mean   6.831319e+05  8.504636e+05  11219.443815  10947.713196   \n",
       "std    2.106941e+05  2.656783e+05   7456.670694   7187.238670   \n",
       "min    5.473400e+04  7.069900e+04    500.000000    500.000000   \n",
       "25%    5.162210e+05  6.667800e+05   5500.000000   5400.000000   \n",
       "50%    6.656650e+05  8.508120e+05  10000.000000   9600.000000   \n",
       "75%    8.377550e+05  1.047339e+06  15000.000000  15000.000000   \n",
       "max    1.077501e+06  1.314167e+06  35000.000000  35000.000000   \n",
       "\n",
       "       funded_amnt_inv   installment    annual_inc           dti  \\\n",
       "count     39717.000000  39717.000000  3.971700e+04  39717.000000   \n",
       "mean      10397.448868    324.561922  6.896893e+04     13.315130   \n",
       "std        7128.450439    208.874874  6.379377e+04      6.678594   \n",
       "min           0.000000     15.690000  4.000000e+03      0.000000   \n",
       "25%        5000.000000    167.020000  4.040400e+04      8.170000   \n",
       "50%        8975.000000    280.220000  5.900000e+04     13.400000   \n",
       "75%       14400.000000    430.780000  8.230000e+04     18.600000   \n",
       "max       35000.000000   1305.190000  6.000000e+06     29.990000   \n",
       "\n",
       "        delinq_2yrs  inq_last_6mths  ...  total_pymnt_inv  total_rec_prncp  \\\n",
       "count  39717.000000    39717.000000  ...     39717.000000     39717.000000   \n",
       "mean       0.146512        0.869200  ...     11567.149118      9793.348813   \n",
       "std        0.491812        1.070219  ...      8942.672613      7065.522127   \n",
       "min        0.000000        0.000000  ...         0.000000         0.000000   \n",
       "25%        0.000000        0.000000  ...      5112.310000      4600.000000   \n",
       "50%        0.000000        1.000000  ...      9287.150000      8000.000000   \n",
       "75%        0.000000        1.000000  ...     15798.810000     13653.260000   \n",
       "max       11.000000        8.000000  ...     58563.680000     35000.020000   \n",
       "\n",
       "       total_rec_int  total_rec_late_fee    recoveries  \\\n",
       "count   39717.000000        39717.000000  39717.000000   \n",
       "mean     2263.663172            1.363015     95.221624   \n",
       "std      2608.111964            7.289979    688.744771   \n",
       "min         0.000000            0.000000      0.000000   \n",
       "25%       662.180000            0.000000      0.000000   \n",
       "50%      1348.910000            0.000000      0.000000   \n",
       "75%      2833.400000            0.000000      0.000000   \n",
       "max     23563.680000          180.200000  29623.350000   \n",
       "\n",
       "       collection_recovery_fee  last_pymnt_amnt  policy_code  acc_now_delinq  \\\n",
       "count             39717.000000     39717.000000      39717.0         39717.0   \n",
       "mean                 12.406112      2678.826162          1.0             0.0   \n",
       "std                 148.671593      4447.136012          0.0             0.0   \n",
       "min                   0.000000         0.000000          1.0             0.0   \n",
       "25%                   0.000000       218.680000          1.0             0.0   \n",
       "50%                   0.000000       546.140000          1.0             0.0   \n",
       "75%                   0.000000      3293.160000          1.0             0.0   \n",
       "max                7002.190000     36115.200000          1.0             0.0   \n",
       "\n",
       "       delinq_amnt  \n",
       "count      39717.0  \n",
       "mean           0.0  \n",
       "std            0.0  \n",
       "min            0.0  \n",
       "25%            0.0  \n",
       "50%            0.0  \n",
       "75%            0.0  \n",
       "max            0.0  \n",
       "\n",
       "[8 rows x 27 columns]"
      ]
     },
     "execution_count": 16,
     "metadata": {},
     "output_type": "execute_result"
    }
   ],
   "source": [
    "df.describe()"
   ]
  },
  {
   "cell_type": "code",
   "execution_count": null,
   "metadata": {
    "colab": {
     "base_uri": "https://localhost:8080/"
    },
    "id": "pAZQ-Or38VV0",
    "outputId": "f8b2813a-10af-45ba-908a-46c8639c34da"
   },
   "outputs": [
    {
     "data": {
      "text/plain": [
       "count    3.971700e+04\n",
       "mean     6.896893e+04\n",
       "std      6.379377e+04\n",
       "min      4.000000e+03\n",
       "25%      4.040400e+04\n",
       "50%      5.900000e+04\n",
       "75%      8.230000e+04\n",
       "max      6.000000e+06\n",
       "Name: annual_inc, dtype: float64"
      ]
     },
     "execution_count": 17,
     "metadata": {},
     "output_type": "execute_result"
    }
   ],
   "source": [
    "df[\"annual_inc\"].describe()"
   ]
  },
  {
   "cell_type": "code",
   "execution_count": null,
   "metadata": {
    "id": "0YxvbOWOBfYt"
   },
   "outputs": [],
   "source": [
    "df[\"annual_inc\"]=np.where(df[\"annual_inc\"]==\"?\",df[\"annual_inc\"].mode()[0],df[\"annual_inc\"])"
   ]
  },
  {
   "cell_type": "code",
   "execution_count": null,
   "metadata": {
    "colab": {
     "base_uri": "https://localhost:8080/"
    },
    "id": "hPcrlu9H9s6F",
    "outputId": "d0feb853-6e1d-4b54-dcd9-eb7505c1d478"
   },
   "outputs": [
    {
     "data": {
      "text/plain": [
       "RENT        18899\n",
       "MORTGAGE    17659\n",
       "OWN          3058\n",
       "OTHER          98\n",
       "NONE            3\n",
       "Name: home_ownership, dtype: int64"
      ]
     },
     "execution_count": 21,
     "metadata": {},
     "output_type": "execute_result"
    }
   ],
   "source": [
    "df[\"home_ownership\"].value_counts()"
   ]
  },
  {
   "cell_type": "code",
   "execution_count": null,
   "metadata": {
    "colab": {
     "base_uri": "https://localhost:8080/"
    },
    "id": "SnyEGktX_HF1",
    "outputId": "fa9d1b8f-6a98-4323-9a4a-6aeb1b385224"
   },
   "outputs": [
    {
     "data": {
      "text/plain": [
       "Fully Paid     32950\n",
       "Charged Off     5627\n",
       "Current         1140\n",
       "Name: loan_status, dtype: int64"
      ]
     },
     "execution_count": 22,
     "metadata": {},
     "output_type": "execute_result"
    }
   ],
   "source": [
    "df[\"loan_status\"].value_counts()"
   ]
  },
  {
   "cell_type": "code",
   "execution_count": null,
   "metadata": {
    "colab": {
     "base_uri": "https://localhost:8080/"
    },
    "id": "vM3frKX6BWsG",
    "outputId": "ec1f19f8-743d-4c57-af56-e929b3264e29"
   },
   "outputs": [
    {
     "data": {
      "text/plain": [
       "B    12020\n",
       "A    10085\n",
       "C     8098\n",
       "D     5307\n",
       "E     2842\n",
       "F     1049\n",
       "G      316\n",
       "Name: grade, dtype: int64"
      ]
     },
     "execution_count": 26,
     "metadata": {},
     "output_type": "execute_result"
    }
   ],
   "source": [
    "df[\"grade\"].value_counts()"
   ]
  },
  {
   "cell_type": "code",
   "execution_count": null,
   "metadata": {
    "id": "pslYNXXUFl92"
   },
   "outputs": [],
   "source": [
    "df = df.drop(df.columns[[50,51,52,53,54,55,56,57,58,59,60,61,62,63,64,65,66,67,68,69,70]], axis=1)"
   ]
  },
  {
   "cell_type": "code",
   "execution_count": null,
   "metadata": {
    "colab": {
     "base_uri": "https://localhost:8080/"
    },
    "id": "3arb9ny-Fu73",
    "outputId": "17bc92b7-f6ac-42c1-b762-0dbd0eb4c9db"
   },
   "outputs": [
    {
     "name": "stdout",
     "output_type": "stream",
     "text": [
      "<class 'pandas.core.frame.DataFrame'>\n",
      "RangeIndex: 39717 entries, 0 to 39716\n",
      "Columns: 111 entries, id to total_il_high_credit_limit\n",
      "dtypes: float64(74), int64(13), object(24)\n",
      "memory usage: 33.6+ MB\n"
     ]
    }
   ],
   "source": [
    "df.info()"
   ]
  },
  {
   "cell_type": "code",
   "execution_count": null,
   "metadata": {
    "id": "42QzimEwKo8-"
   },
   "outputs": [],
   "source": [
    "df.tail()"
   ]
  },
  {
   "cell_type": "code",
   "execution_count": null,
   "metadata": {
    "id": "FgFUe4R4MsBf"
   },
   "outputs": [],
   "source": [
    "cont_cols=[\"loan_amnt\",\"capital-gain\",\"capital-loss\",\"hours-per-week\"]"
   ]
  },
  {
   "cell_type": "code",
   "execution_count": null,
   "metadata": {
    "id": "gvKcxH_ONvQI"
   },
   "outputs": [],
   "source": [
    "df = df.drop(df.columns[[18,49,50,51,52,53,56,57,58,59,60,61,62,63,64,65,66,67,68,69,70,71,72,73,74,75,76,77,78,79,80,83,84,85]], axis=1)"
   ]
  },
  {
   "cell_type": "code",
   "execution_count": null,
   "metadata": {
    "colab": {
     "base_uri": "https://localhost:8080/"
    },
    "id": "3rnxPrxBOoR4",
    "outputId": "d633594b-176a-4597-ce33-8395f82a5676"
   },
   "outputs": [
    {
     "name": "stdout",
     "output_type": "stream",
     "text": [
      "<class 'pandas.core.frame.DataFrame'>\n",
      "RangeIndex: 39717 entries, 0 to 39716\n",
      "Columns: 111 entries, id to total_il_high_credit_limit\n",
      "dtypes: float64(74), int64(13), object(24)\n",
      "memory usage: 33.6+ MB\n"
     ]
    }
   ],
   "source": [
    "df.info()"
   ]
  },
  {
   "cell_type": "markdown",
   "metadata": {
    "id": "py3XREifXhai"
   },
   "source": [
    "# **Exploratory Data Analysis EDA**"
   ]
  },
  {
   "cell_type": "code",
   "execution_count": null,
   "metadata": {
    "colab": {
     "base_uri": "https://localhost:8080/",
     "height": 296
    },
    "id": "7Id-FalORJzg",
    "outputId": "d9e685d9-3837-47d2-9f48-cdac4662587a"
   },
   "outputs": [
    {
     "data": {
      "image/png": "[encoded data removed]",
      "text/plain": [
       "<Figure size 432x288 with 1 Axes>"
      ]
     },
     "metadata": {
      "needs_background": "light"
     },
     "output_type": "display_data"
    }
   ],
   "source": [
    "sns.histplot(df[\"verification_status\"])\n",
    "plt.title(\"verification_status\")\n",
    "plt.show()"
   ]
  },
  {
   "cell_type": "code",
   "execution_count": null,
   "metadata": {
    "colab": {
     "base_uri": "https://localhost:8080/",
     "height": 296
    },
    "id": "gbXShbynTlyx",
    "outputId": "2f4a5c75-6e95-44c4-f297-7928d1610781"
   },
   "outputs": [
    {
     "data": {
      "image/png": "[encoded data removed]",
      "text/plain": [
       "<Figure size 432x288 with 1 Axes>"
      ]
     },
     "metadata": {
      "needs_background": "light"
     },
     "output_type": "display_data"
    }
   ],
   "source": [
    "sns.histplot(df[\"annual_inc\"])\n",
    "plt.title(\"annual_inc\")\n",
    "plt.show()"
   ]
  },
  {
   "cell_type": "code",
   "execution_count": null,
   "metadata": {
    "colab": {
     "base_uri": "https://localhost:8080/",
     "height": 297
    },
    "id": "yJwyheqJUCfu",
    "outputId": "98087ae8-fc6b-48f0-c911-f8b46cd5c968"
   },
   "outputs": [
    {
     "data": {
      "text/plain": [
       "<matplotlib.axes._subplots.AxesSubplot at 0x7f612a0e9ed0>"
      ]
     },
     "execution_count": 16,
     "metadata": {},
     "output_type": "execute_result"
    },
    {
     "data": {
      "image/png": "[encoded data removed]",
      "text/plain": [
       "<Figure size 432x288 with 1 Axes>"
      ]
     },
     "metadata": {
      "needs_background": "light"
     },
     "output_type": "display_data"
    }
   ],
   "source": [
    "sns.boxplot(x=df[\"annual_inc\"])\n"
   ]
  },
  {
   "cell_type": "markdown",
   "metadata": {
    "id": "BZ7suhVcYElC"
   },
   "source": [
    "# Removal of outliers from data above 18 Lac Annual income and there are total 4 entries above 18 Lac"
   ]
  },
  {
   "cell_type": "code",
   "execution_count": null,
   "metadata": {
    "colab": {
     "base_uri": "https://localhost:8080/",
     "height": 363
    },
    "id": "0DoUJh_Abu7q",
    "outputId": "b3332ac9-e99a-4c41-bc2a-bf6c9d8ef82e"
   },
   "outputs": [
    {
     "name": "stderr",
     "output_type": "stream",
     "text": [
      "/usr/local/lib/python3.7/dist-packages/seaborn/distributions.py:2619: FutureWarning: `distplot` is a deprecated function and will be removed in a future version. Please adapt your code to use either `displot` (a figure-level function with similar flexibility) or `histplot` (an axes-level function for histograms).\n",
      "  warnings.warn(msg, FutureWarning)\n"
     ]
    },
    {
     "data": {
      "text/plain": [
       "<matplotlib.axes._subplots.AxesSubplot at 0x7f612b5571d0>"
      ]
     },
     "execution_count": 20,
     "metadata": {},
     "output_type": "execute_result"
    },
    {
     "data": {
      "image/png": "[encoded data removed]",
      "text/plain": [
       "<Figure size 432x288 with 1 Axes>"
      ]
     },
     "metadata": {
      "needs_background": "light"
     },
     "output_type": "display_data"
    }
   ],
   "source": [
    "sns.distplot(df[\"annual_inc\"])"
   ]
  },
  {
   "cell_type": "code",
   "execution_count": null,
   "metadata": {
    "colab": {
     "base_uri": "https://localhost:8080/",
     "height": 296
    },
    "id": "txglQ_BIYdCx",
    "outputId": "efdaa0e1-402d-4a46-8d8c-b74578d13a3f"
   },
   "outputs": [
    {
     "data": {
      "image/png": "[encoded data removed]",
      "text/plain": [
       "<Figure size 432x288 with 1 Axes>"
      ]
     },
     "metadata": {
      "needs_background": "light"
     },
     "output_type": "display_data"
    }
   ],
   "source": [
    "sns.histplot(df[\"loan_status\"])\n",
    "plt.title(\"loan_status\")\n",
    "plt.show()"
   ]
  },
  {
   "cell_type": "code",
   "execution_count": 30,
   "metadata": {
    "colab": {
     "base_uri": "https://localhost:8080/",
     "height": 405
    },
    "id": "k1wShIw8bfbC",
    "outputId": "76f41e2e-e7d8-4a1e-f2dd-1b505ec25f60"
   },
   "outputs": [
    {
     "data": {
      "image/png": "[encoded data removed]",
      "text/plain": [
       "<Figure size 1440x432 with 1 Axes>"
      ]
     },
     "metadata": {
      "needs_background": "light"
     },
     "output_type": "display_data"
    }
   ],
   "source": [
    "pd.crosstab(df.verification_status,df.loan_status).plot(kind=\"bar\",figsize=(20,6))\n",
    "plt.title('Loan Status')\n",
    "plt.xlabel('loan_status')\n",
    "plt.ylabel('verification_status')\n",
    "plt.xticks(rotation =0)\n",
    "plt.savefig('Loan status.png')\n",
    "plt.show()"
   ]
  },
  {
   "cell_type": "markdown",
   "metadata": {
    "id": "1hVx814Uad-D"
   },
   "source": [
    "# There is no such large effect of verification on repayment of loan."
   ]
  },
  {
   "cell_type": "code",
   "execution_count": null,
   "metadata": {
    "id": "quML4ua8asbq"
   },
   "outputs": [],
   "source": []
  },
  {
   "cell_type": "code",
   "execution_count": null,
   "metadata": {
    "id": "hwyWcmeCasYi"
   },
   "outputs": [],
   "source": []
  },
  {
   "cell_type": "code",
   "execution_count": null,
   "metadata": {
    "id": "Yd7HjfnNasRa"
   },
   "outputs": [],
   "source": []
  },
  {
   "cell_type": "code",
   "execution_count": 26,
   "metadata": {
    "colab": {
     "base_uri": "https://localhost:8080/",
     "height": 404
    },
    "id": "TkOVuKTR4vD_",
    "outputId": "1bfeb26d-493b-44fb-951f-e00b7cbd98c4"
   },
   "outputs": [
    {
     "data": {
      "image/png": "[encoded data removed]",
      "text/plain": [
       "<Figure size 1440x432 with 1 Axes>"
      ]
     },
     "metadata": {
      "needs_background": "light"
     },
     "output_type": "display_data"
    }
   ],
   "source": [
    "pd.crosstab(df.home_ownership,df.loan_status).plot(kind=\"bar\",figsize=(20,6))\n",
    "plt.title('Loan Status')\n",
    "plt.xlabel('Home Ownership')\n",
    "plt.ylabel('Loan Paid')\n",
    "plt.xticks(rotation =0)\n",
    "plt.show()"
   ]
  },
  {
   "cell_type": "markdown",
   "metadata": {
    "id": "FqXuJs3hS1Eg"
   },
   "source": [
    "\n",
    "*   Above graph suggests that borrowers having mortgage and rented house are likely to be defaulter\n",
    "*   House type should be considered while sanction of loan.\n",
    "\n",
    "\n",
    "\n",
    "\n"
   ]
  },
  {
   "cell_type": "markdown",
   "metadata": {
    "id": "KiqKAJDoa-AC"
   },
   "source": []
  },
  {
   "cell_type": "markdown",
   "metadata": {
    "id": "51E5pY0Ia9vq"
   },
   "source": []
  },
  {
   "cell_type": "code",
   "execution_count": 27,
   "metadata": {
    "colab": {
     "base_uri": "https://localhost:8080/",
     "height": 405
    },
    "id": "qJ2eVhfMBhfA",
    "outputId": "a0e1cc43-dac6-45b8-8873-b88018c0dc5c"
   },
   "outputs": [
    {
     "data": {
      "image/png": "[encoded data removed]",
      "text/plain": [
       "<Figure size 1440x432 with 1 Axes>"
      ]
     },
     "metadata": {
      "needs_background": "light"
     },
     "output_type": "display_data"
    }
   ],
   "source": [
    "pd.crosstab(df.purpose,df.loan_status).plot(kind=\"bar\",figsize=(20,6))\n",
    "plt.title('Loan Status')\n",
    "plt.xlabel('Purpose')\n",
    "plt.ylabel('Loan Paid')\n",
    "plt.xticks(rotation =0)\n",
    "plt.show()"
   ]
  },
  {
   "cell_type": "markdown",
   "metadata": {
    "id": "9ya2iGXiTlBZ"
   },
   "source": [
    "\n",
    "\n",
    "1.   Borrowers who are requesting loan against debt consolidation and small business are likely defaulters.\n",
    "2.   Borrowers with Debt consolidation should be scrutinized properly. \n",
    "\n"
   ]
  },
  {
   "cell_type": "code",
   "execution_count": null,
   "metadata": {
    "id": "y7VSRaimbCkp"
   },
   "outputs": [],
   "source": []
  },
  {
   "cell_type": "code",
   "execution_count": null,
   "metadata": {
    "id": "fw53s-TQbCdx"
   },
   "outputs": [],
   "source": []
  },
  {
   "cell_type": "code",
   "execution_count": 28,
   "metadata": {
    "colab": {
     "base_uri": "https://localhost:8080/",
     "height": 404
    },
    "id": "lfGnb-x2FZsx",
    "outputId": "22ef901e-c764-49e1-fda5-008b90d5b31b"
   },
   "outputs": [
    {
     "data": {
      "image/png": "[encoded data removed]",
      "text/plain": [
       "<Figure size 1440x432 with 1 Axes>"
      ]
     },
     "metadata": {
      "needs_background": "light"
     },
     "output_type": "display_data"
    }
   ],
   "source": [
    "pd.crosstab(df.grade,df.loan_status).plot(kind=\"bar\",figsize=(20,6))\n",
    "plt.title('Loan Status')\n",
    "plt.xlabel('Grade')\n",
    "plt.ylabel('Loan Paid')\n",
    "plt.xticks(rotation =0)\n",
    "plt.show()"
   ]
  },
  {
   "cell_type": "markdown",
   "metadata": {
    "id": "yiHat58IbHkK"
   },
   "source": [
    "C and D graded borrowers are likely deafulters."
   ]
  },
  {
   "cell_type": "code",
   "execution_count": 29,
   "metadata": {
    "colab": {
     "base_uri": "https://localhost:8080/",
     "height": 404
    },
    "id": "_7hp1ZqyGQjJ",
    "outputId": "8fad0220-c34e-4dad-e3bb-1072c18faaab"
   },
   "outputs": [
    {
     "data": {
      "image/png": "[encoded data removed]",
      "text/plain": [
       "<Figure size 1440x432 with 1 Axes>"
      ]
     },
     "metadata": {
      "needs_background": "light"
     },
     "output_type": "display_data"
    }
   ],
   "source": [
    "pd.crosstab(df.emp_length,df.loan_status).plot(kind=\"bar\",figsize=(20,6))\n",
    "plt.title('Loan Status')\n",
    "plt.xlabel('Years of Experience')\n",
    "plt.ylabel('Number of Loan Paid')\n",
    "plt.xticks(rotation =0)\n",
    "plt.show()"
   ]
  },
  {
   "cell_type": "markdown",
   "metadata": {
    "id": "06LGkZnmjNME"
   },
   "source": [
    "# Borrowers having 1 year & more than 10+ years of experience are likely defaulters"
   ]
  },
  {
   "cell_type": "code",
   "execution_count": null,
   "metadata": {
    "id": "yKDeNDd7ibmU"
   },
   "outputs": [],
   "source": []
  },
  {
   "cell_type": "code",
   "execution_count": null,
   "metadata": {
    "id": "ZaahkjdjGeBx"
   },
   "outputs": [],
   "source": [
    "g=df.groupby('annual_inc')"
   ]
  },
  {
   "cell_type": "code",
   "execution_count": null,
   "metadata": {
    "colab": {
     "base_uri": "https://localhost:8080/"
    },
    "id": "udY47On5VTAU",
    "outputId": "fb32cb9e-085e-4a89-be53-1d12634c937a"
   },
   "outputs": [
    {
     "data": {
      "text/plain": [
       "0         5000\n",
       "1         2500\n",
       "2         2400\n",
       "3        10000\n",
       "4         3000\n",
       "         ...  \n",
       "39712     2500\n",
       "39713     8500\n",
       "39714     5000\n",
       "39715     5000\n",
       "39716     7500\n",
       "Name: loan_amnt, Length: 39717, dtype: int64"
      ]
     },
     "execution_count": 6,
     "metadata": {},
     "output_type": "execute_result"
    }
   ],
   "source": [
    "df[\"loan_amnt\"]"
   ]
  },
  {
   "cell_type": "code",
   "execution_count": null,
   "metadata": {
    "id": "FN_J6uUsWYMk"
   },
   "outputs": [],
   "source": [
    "g=df.groupby(\"loan_amnt\")"
   ]
  },
  {
   "cell_type": "code",
   "execution_count": null,
   "metadata": {
    "colab": {
     "base_uri": "https://localhost:8080/",
     "height": 424
    },
    "id": "t0S5IhVjXeye",
    "outputId": "40472233-52b3-4b77-83c8-4d2c9d440be1"
   },
   "outputs": [
    {
     "data": {
      "text/html": [
       "\n",
       "  <div id=\"df-696ae5ef-8258-47dc-a257-6c2fe9932c62\">\n",
       "    <div class=\"colab-df-container\">\n",
       "      <div>\n",
       "<style scoped>\n",
       "    .dataframe tbody tr th:only-of-type {\n",
       "        vertical-align: middle;\n",
       "    }\n",
       "\n",
       "    .dataframe tbody tr th {\n",
       "        vertical-align: top;\n",
       "    }\n",
       "\n",
       "    .dataframe thead th {\n",
       "        text-align: right;\n",
       "    }\n",
       "</style>\n",
       "<table border=\"1\" class=\"dataframe\">\n",
       "  <thead>\n",
       "    <tr style=\"text-align: right;\">\n",
       "      <th></th>\n",
       "      <th>loan_amnt</th>\n",
       "      <th>count</th>\n",
       "      <th>mean</th>\n",
       "      <th>std</th>\n",
       "      <th>min</th>\n",
       "      <th>25%</th>\n",
       "      <th>50%</th>\n",
       "      <th>75%</th>\n",
       "      <th>max</th>\n",
       "    </tr>\n",
       "  </thead>\n",
       "  <tbody>\n",
       "    <tr>\n",
       "      <th>0</th>\n",
       "      <td>500</td>\n",
       "      <td>5.0</td>\n",
       "      <td>26080.808000</td>\n",
       "      <td>19510.773426</td>\n",
       "      <td>7904.04</td>\n",
       "      <td>18000.0</td>\n",
       "      <td>19500.0</td>\n",
       "      <td>26000.0</td>\n",
       "      <td>59000.0</td>\n",
       "    </tr>\n",
       "    <tr>\n",
       "      <th>1</th>\n",
       "      <td>700</td>\n",
       "      <td>1.0</td>\n",
       "      <td>19000.000000</td>\n",
       "      <td>NaN</td>\n",
       "      <td>19000.00</td>\n",
       "      <td>19000.0</td>\n",
       "      <td>19000.0</td>\n",
       "      <td>19000.0</td>\n",
       "      <td>19000.0</td>\n",
       "    </tr>\n",
       "    <tr>\n",
       "      <th>2</th>\n",
       "      <td>725</td>\n",
       "      <td>1.0</td>\n",
       "      <td>12000.000000</td>\n",
       "      <td>NaN</td>\n",
       "      <td>12000.00</td>\n",
       "      <td>12000.0</td>\n",
       "      <td>12000.0</td>\n",
       "      <td>12000.0</td>\n",
       "      <td>12000.0</td>\n",
       "    </tr>\n",
       "    <tr>\n",
       "      <th>3</th>\n",
       "      <td>750</td>\n",
       "      <td>1.0</td>\n",
       "      <td>19000.000000</td>\n",
       "      <td>NaN</td>\n",
       "      <td>19000.00</td>\n",
       "      <td>19000.0</td>\n",
       "      <td>19000.0</td>\n",
       "      <td>19000.0</td>\n",
       "      <td>19000.0</td>\n",
       "    </tr>\n",
       "    <tr>\n",
       "      <th>4</th>\n",
       "      <td>800</td>\n",
       "      <td>1.0</td>\n",
       "      <td>35000.000000</td>\n",
       "      <td>NaN</td>\n",
       "      <td>35000.00</td>\n",
       "      <td>35000.0</td>\n",
       "      <td>35000.0</td>\n",
       "      <td>35000.0</td>\n",
       "      <td>35000.0</td>\n",
       "    </tr>\n",
       "    <tr>\n",
       "      <th>...</th>\n",
       "      <td>...</td>\n",
       "      <td>...</td>\n",
       "      <td>...</td>\n",
       "      <td>...</td>\n",
       "      <td>...</td>\n",
       "      <td>...</td>\n",
       "      <td>...</td>\n",
       "      <td>...</td>\n",
       "      <td>...</td>\n",
       "    </tr>\n",
       "    <tr>\n",
       "      <th>880</th>\n",
       "      <td>34475</td>\n",
       "      <td>5.0</td>\n",
       "      <td>72396.752000</td>\n",
       "      <td>16795.416368</td>\n",
       "      <td>57881.76</td>\n",
       "      <td>60000.0</td>\n",
       "      <td>71102.0</td>\n",
       "      <td>73000.0</td>\n",
       "      <td>100000.0</td>\n",
       "    </tr>\n",
       "    <tr>\n",
       "      <th>881</th>\n",
       "      <td>34525</td>\n",
       "      <td>1.0</td>\n",
       "      <td>112000.000000</td>\n",
       "      <td>NaN</td>\n",
       "      <td>112000.00</td>\n",
       "      <td>112000.0</td>\n",
       "      <td>112000.0</td>\n",
       "      <td>112000.0</td>\n",
       "      <td>112000.0</td>\n",
       "    </tr>\n",
       "    <tr>\n",
       "      <th>882</th>\n",
       "      <td>34675</td>\n",
       "      <td>1.0</td>\n",
       "      <td>120000.000000</td>\n",
       "      <td>NaN</td>\n",
       "      <td>120000.00</td>\n",
       "      <td>120000.0</td>\n",
       "      <td>120000.0</td>\n",
       "      <td>120000.0</td>\n",
       "      <td>120000.0</td>\n",
       "    </tr>\n",
       "    <tr>\n",
       "      <th>883</th>\n",
       "      <td>34800</td>\n",
       "      <td>2.0</td>\n",
       "      <td>128500.000000</td>\n",
       "      <td>12020.815280</td>\n",
       "      <td>120000.00</td>\n",
       "      <td>124250.0</td>\n",
       "      <td>128500.0</td>\n",
       "      <td>132750.0</td>\n",
       "      <td>137000.0</td>\n",
       "    </tr>\n",
       "    <tr>\n",
       "      <th>884</th>\n",
       "      <td>35000</td>\n",
       "      <td>679.0</td>\n",
       "      <td>130742.278174</td>\n",
       "      <td>77651.188097</td>\n",
       "      <td>45000.00</td>\n",
       "      <td>85000.0</td>\n",
       "      <td>106000.0</td>\n",
       "      <td>150000.0</td>\n",
       "      <td>750000.0</td>\n",
       "    </tr>\n",
       "  </tbody>\n",
       "</table>\n",
       "<p>885 rows × 9 columns</p>\n",
       "</div>\n",
       "      <button class=\"colab-df-convert\" onclick=\"convertToInteractive('df-696ae5ef-8258-47dc-a257-6c2fe9932c62')\"\n",
       "              title=\"Convert this dataframe to an interactive table.\"\n",
       "              style=\"display:none;\">\n",
       "        \n",
       "  <svg xmlns=\"http://www.w3.org/2000/svg\" height=\"24px\"viewBox=\"0 0 24 24\"\n",
       "       width=\"24px\">\n",
       "    <path d=\"M0 0h24v24H0V0z\" fill=\"none\"/>\n",
       "    <path d=\"M18.56 5.44l.94 2.06.94-2.06 2.06-.94-2.06-.94-.94-2.06-.94 2.06-2.06.94zm-11 1L8.5 8.5l.94-2.06 2.06-.94-2.06-.94L8.5 2.5l-.94 2.06-2.06.94zm10 10l.94 2.06.94-2.06 2.06-.94-2.06-.94-.94-2.06-.94 2.06-2.06.94z\"/><path d=\"M17.41 7.96l-1.37-1.37c-.4-.4-.92-.59-1.43-.59-.52 0-1.04.2-1.43.59L10.3 9.45l-7.72 7.72c-.78.78-.78 2.05 0 2.83L4 21.41c.39.39.9.59 1.41.59.51 0 1.02-.2 1.41-.59l7.78-7.78 2.81-2.81c.8-.78.8-2.07 0-2.86zM5.41 20L4 18.59l7.72-7.72 1.47 1.35L5.41 20z\"/>\n",
       "  </svg>\n",
       "      </button>\n",
       "      \n",
       "  <style>\n",
       "    .colab-df-container {\n",
       "      display:flex;\n",
       "      flex-wrap:wrap;\n",
       "      gap: 12px;\n",
       "    }\n",
       "\n",
       "    .colab-df-convert {\n",
       "      background-color: #E8F0FE;\n",
       "      border: none;\n",
       "      border-radius: 50%;\n",
       "      cursor: pointer;\n",
       "      display: none;\n",
       "      fill: #1967D2;\n",
       "      height: 32px;\n",
       "      padding: 0 0 0 0;\n",
       "      width: 32px;\n",
       "    }\n",
       "\n",
       "    .colab-df-convert:hover {\n",
       "      background-color: #E2EBFA;\n",
       "      box-shadow: 0px 1px 2px rgba(60, 64, 67, 0.3), 0px 1px 3px 1px rgba(60, 64, 67, 0.15);\n",
       "      fill: #174EA6;\n",
       "    }\n",
       "\n",
       "    [theme=dark] .colab-df-convert {\n",
       "      background-color: #3B4455;\n",
       "      fill: #D2E3FC;\n",
       "    }\n",
       "\n",
       "    [theme=dark] .colab-df-convert:hover {\n",
       "      background-color: #434B5C;\n",
       "      box-shadow: 0px 1px 3px 1px rgba(0, 0, 0, 0.15);\n",
       "      filter: drop-shadow(0px 1px 2px rgba(0, 0, 0, 0.3));\n",
       "      fill: #FFFFFF;\n",
       "    }\n",
       "  </style>\n",
       "\n",
       "      <script>\n",
       "        const buttonEl =\n",
       "          document.querySelector('#df-696ae5ef-8258-47dc-a257-6c2fe9932c62 button.colab-df-convert');\n",
       "        buttonEl.style.display =\n",
       "          google.colab.kernel.accessAllowed ? 'block' : 'none';\n",
       "\n",
       "        async function convertToInteractive(key) {\n",
       "          const element = document.querySelector('#df-696ae5ef-8258-47dc-a257-6c2fe9932c62');\n",
       "          const dataTable =\n",
       "            await google.colab.kernel.invokeFunction('convertToInteractive',\n",
       "                                                     [key], {});\n",
       "          if (!dataTable) return;\n",
       "\n",
       "          const docLinkHtml = 'Like what you see? Visit the ' +\n",
       "            '<a target=\"_blank\" href=https://colab.research.google.com/notebooks/data_table.ipynb>data table notebook</a>'\n",
       "            + ' to learn more about interactive tables.';\n",
       "          element.innerHTML = '';\n",
       "          dataTable['output_type'] = 'display_data';\n",
       "          await google.colab.output.renderOutput(dataTable, element);\n",
       "          const docLink = document.createElement('div');\n",
       "          docLink.innerHTML = docLinkHtml;\n",
       "          element.appendChild(docLink);\n",
       "        }\n",
       "      </script>\n",
       "    </div>\n",
       "  </div>\n",
       "  "
      ],
      "text/plain": [
       "     loan_amnt  count           mean           std        min       25%  \\\n",
       "0          500    5.0   26080.808000  19510.773426    7904.04   18000.0   \n",
       "1          700    1.0   19000.000000           NaN   19000.00   19000.0   \n",
       "2          725    1.0   12000.000000           NaN   12000.00   12000.0   \n",
       "3          750    1.0   19000.000000           NaN   19000.00   19000.0   \n",
       "4          800    1.0   35000.000000           NaN   35000.00   35000.0   \n",
       "..         ...    ...            ...           ...        ...       ...   \n",
       "880      34475    5.0   72396.752000  16795.416368   57881.76   60000.0   \n",
       "881      34525    1.0  112000.000000           NaN  112000.00  112000.0   \n",
       "882      34675    1.0  120000.000000           NaN  120000.00  120000.0   \n",
       "883      34800    2.0  128500.000000  12020.815280  120000.00  124250.0   \n",
       "884      35000  679.0  130742.278174  77651.188097   45000.00   85000.0   \n",
       "\n",
       "          50%       75%       max  \n",
       "0     19500.0   26000.0   59000.0  \n",
       "1     19000.0   19000.0   19000.0  \n",
       "2     12000.0   12000.0   12000.0  \n",
       "3     19000.0   19000.0   19000.0  \n",
       "4     35000.0   35000.0   35000.0  \n",
       "..        ...       ...       ...  \n",
       "880   71102.0   73000.0  100000.0  \n",
       "881  112000.0  112000.0  112000.0  \n",
       "882  120000.0  120000.0  120000.0  \n",
       "883  128500.0  132750.0  137000.0  \n",
       "884  106000.0  150000.0  750000.0  \n",
       "\n",
       "[885 rows x 9 columns]"
      ]
     },
     "execution_count": 18,
     "metadata": {},
     "output_type": "execute_result"
    }
   ],
   "source": [
    "df.groupby([\"loan_amnt\"])[\"annual_inc\"].describe().reset_index()"
   ]
  },
  {
   "cell_type": "code",
   "execution_count": null,
   "metadata": {
    "colab": {
     "base_uri": "https://localhost:8080/",
     "height": 297
    },
    "id": "ukMsCXq1jaTG",
    "outputId": "884e7fe3-3f44-4181-ba05-9c31e93d02c8"
   },
   "outputs": [
    {
     "data": {
      "text/plain": [
       "<matplotlib.axes._subplots.AxesSubplot at 0x7fb733a47990>"
      ]
     },
     "execution_count": 19,
     "metadata": {},
     "output_type": "execute_result"
    },
    {
     "data": {
      "image/png": "[encoded data removed]",
      "text/plain": [
       "<Figure size 432x288 with 1 Axes>"
      ]
     },
     "metadata": {
      "needs_background": "light"
     },
     "output_type": "display_data"
    }
   ],
   "source": [
    "sns.boxplot(x=df[\"annual_inc\"])"
   ]
  },
  {
   "cell_type": "code",
   "execution_count": null,
   "metadata": {
    "id": "Uz1Z0GhSkHHn"
   },
   "outputs": [],
   "source": [
    "df1=df[df['annual_inc']>=1800000]"
   ]
  },
  {
   "cell_type": "code",
   "execution_count": null,
   "metadata": {
    "colab": {
     "base_uri": "https://localhost:8080/",
     "height": 338
    },
    "id": "RcIhqiKblJ-n",
    "outputId": "0845f660-c40a-4f10-b4b4-dc17ef656caa"
   },
   "outputs": [
    {
     "data": {
      "text/html": [
       "\n",
       "  <div id=\"df-ec32ba56-d2bc-4c95-bbcb-7266c185d0a6\">\n",
       "    <div class=\"colab-df-container\">\n",
       "      <div>\n",
       "<style scoped>\n",
       "    .dataframe tbody tr th:only-of-type {\n",
       "        vertical-align: middle;\n",
       "    }\n",
       "\n",
       "    .dataframe tbody tr th {\n",
       "        vertical-align: top;\n",
       "    }\n",
       "\n",
       "    .dataframe thead th {\n",
       "        text-align: right;\n",
       "    }\n",
       "</style>\n",
       "<table border=\"1\" class=\"dataframe\">\n",
       "  <thead>\n",
       "    <tr style=\"text-align: right;\">\n",
       "      <th></th>\n",
       "      <th>id</th>\n",
       "      <th>member_id</th>\n",
       "      <th>loan_amnt</th>\n",
       "      <th>funded_amnt</th>\n",
       "      <th>funded_amnt_inv</th>\n",
       "      <th>term</th>\n",
       "      <th>int_rate</th>\n",
       "      <th>installment</th>\n",
       "      <th>grade</th>\n",
       "      <th>sub_grade</th>\n",
       "      <th>...</th>\n",
       "      <th>total_rec_prncp</th>\n",
       "      <th>total_rec_int</th>\n",
       "      <th>total_rec_late_fee</th>\n",
       "      <th>recoveries</th>\n",
       "      <th>collection_recovery_fee</th>\n",
       "      <th>last_pymnt_amnt</th>\n",
       "      <th>policy_code</th>\n",
       "      <th>application_type</th>\n",
       "      <th>acc_now_delinq</th>\n",
       "      <th>delinq_amnt</th>\n",
       "    </tr>\n",
       "  </thead>\n",
       "  <tbody>\n",
       "    <tr>\n",
       "      <th>23551</th>\n",
       "      <td>611872</td>\n",
       "      <td>784585</td>\n",
       "      <td>1500</td>\n",
       "      <td>1500</td>\n",
       "      <td>1500.00000</td>\n",
       "      <td>36 months</td>\n",
       "      <td>6.17%</td>\n",
       "      <td>45.75</td>\n",
       "      <td>A</td>\n",
       "      <td>A3</td>\n",
       "      <td>...</td>\n",
       "      <td>1500.0</td>\n",
       "      <td>62.35</td>\n",
       "      <td>0.0</td>\n",
       "      <td>0.0</td>\n",
       "      <td>0.0</td>\n",
       "      <td>1197.34</td>\n",
       "      <td>1</td>\n",
       "      <td>INDIVIDUAL</td>\n",
       "      <td>0</td>\n",
       "      <td>0</td>\n",
       "    </tr>\n",
       "    <tr>\n",
       "      <th>29639</th>\n",
       "      <td>519954</td>\n",
       "      <td>672152</td>\n",
       "      <td>25000</td>\n",
       "      <td>15500</td>\n",
       "      <td>11430.00082</td>\n",
       "      <td>60 months</td>\n",
       "      <td>10.62%</td>\n",
       "      <td>334.08</td>\n",
       "      <td>B</td>\n",
       "      <td>B3</td>\n",
       "      <td>...</td>\n",
       "      <td>15500.0</td>\n",
       "      <td>4544.62</td>\n",
       "      <td>0.0</td>\n",
       "      <td>0.0</td>\n",
       "      <td>0.0</td>\n",
       "      <td>353.14</td>\n",
       "      <td>1</td>\n",
       "      <td>INDIVIDUAL</td>\n",
       "      <td>0</td>\n",
       "      <td>0</td>\n",
       "    </tr>\n",
       "    <tr>\n",
       "      <th>30107</th>\n",
       "      <td>513542</td>\n",
       "      <td>663575</td>\n",
       "      <td>5000</td>\n",
       "      <td>5000</td>\n",
       "      <td>5000.00000</td>\n",
       "      <td>36 months</td>\n",
       "      <td>12.73%</td>\n",
       "      <td>167.84</td>\n",
       "      <td>C</td>\n",
       "      <td>C1</td>\n",
       "      <td>...</td>\n",
       "      <td>5000.0</td>\n",
       "      <td>514.49</td>\n",
       "      <td>0.0</td>\n",
       "      <td>0.0</td>\n",
       "      <td>0.0</td>\n",
       "      <td>3845.25</td>\n",
       "      <td>1</td>\n",
       "      <td>INDIVIDUAL</td>\n",
       "      <td>0</td>\n",
       "      <td>0</td>\n",
       "    </tr>\n",
       "    <tr>\n",
       "      <th>39089</th>\n",
       "      <td>269818</td>\n",
       "      <td>267741</td>\n",
       "      <td>8450</td>\n",
       "      <td>8450</td>\n",
       "      <td>3747.00000</td>\n",
       "      <td>36 months</td>\n",
       "      <td>12.29%</td>\n",
       "      <td>281.84</td>\n",
       "      <td>C</td>\n",
       "      <td>C5</td>\n",
       "      <td>...</td>\n",
       "      <td>8450.0</td>\n",
       "      <td>1695.93</td>\n",
       "      <td>0.0</td>\n",
       "      <td>0.0</td>\n",
       "      <td>0.0</td>\n",
       "      <td>293.01</td>\n",
       "      <td>1</td>\n",
       "      <td>INDIVIDUAL</td>\n",
       "      <td>0</td>\n",
       "      <td>0</td>\n",
       "    </tr>\n",
       "  </tbody>\n",
       "</table>\n",
       "<p>4 rows × 43 columns</p>\n",
       "</div>\n",
       "      <button class=\"colab-df-convert\" onclick=\"convertToInteractive('df-ec32ba56-d2bc-4c95-bbcb-7266c185d0a6')\"\n",
       "              title=\"Convert this dataframe to an interactive table.\"\n",
       "              style=\"display:none;\">\n",
       "        \n",
       "  <svg xmlns=\"http://www.w3.org/2000/svg\" height=\"24px\"viewBox=\"0 0 24 24\"\n",
       "       width=\"24px\">\n",
       "    <path d=\"M0 0h24v24H0V0z\" fill=\"none\"/>\n",
       "    <path d=\"M18.56 5.44l.94 2.06.94-2.06 2.06-.94-2.06-.94-.94-2.06-.94 2.06-2.06.94zm-11 1L8.5 8.5l.94-2.06 2.06-.94-2.06-.94L8.5 2.5l-.94 2.06-2.06.94zm10 10l.94 2.06.94-2.06 2.06-.94-2.06-.94-.94-2.06-.94 2.06-2.06.94z\"/><path d=\"M17.41 7.96l-1.37-1.37c-.4-.4-.92-.59-1.43-.59-.52 0-1.04.2-1.43.59L10.3 9.45l-7.72 7.72c-.78.78-.78 2.05 0 2.83L4 21.41c.39.39.9.59 1.41.59.51 0 1.02-.2 1.41-.59l7.78-7.78 2.81-2.81c.8-.78.8-2.07 0-2.86zM5.41 20L4 18.59l7.72-7.72 1.47 1.35L5.41 20z\"/>\n",
       "  </svg>\n",
       "      </button>\n",
       "      \n",
       "  <style>\n",
       "    .colab-df-container {\n",
       "      display:flex;\n",
       "      flex-wrap:wrap;\n",
       "      gap: 12px;\n",
       "    }\n",
       "\n",
       "    .colab-df-convert {\n",
       "      background-color: #E8F0FE;\n",
       "      border: none;\n",
       "      border-radius: 50%;\n",
       "      cursor: pointer;\n",
       "      display: none;\n",
       "      fill: #1967D2;\n",
       "      height: 32px;\n",
       "      padding: 0 0 0 0;\n",
       "      width: 32px;\n",
       "    }\n",
       "\n",
       "    .colab-df-convert:hover {\n",
       "      background-color: #E2EBFA;\n",
       "      box-shadow: 0px 1px 2px rgba(60, 64, 67, 0.3), 0px 1px 3px 1px rgba(60, 64, 67, 0.15);\n",
       "      fill: #174EA6;\n",
       "    }\n",
       "\n",
       "    [theme=dark] .colab-df-convert {\n",
       "      background-color: #3B4455;\n",
       "      fill: #D2E3FC;\n",
       "    }\n",
       "\n",
       "    [theme=dark] .colab-df-convert:hover {\n",
       "      background-color: #434B5C;\n",
       "      box-shadow: 0px 1px 3px 1px rgba(0, 0, 0, 0.15);\n",
       "      filter: drop-shadow(0px 1px 2px rgba(0, 0, 0, 0.3));\n",
       "      fill: #FFFFFF;\n",
       "    }\n",
       "  </style>\n",
       "\n",
       "      <script>\n",
       "        const buttonEl =\n",
       "          document.querySelector('#df-ec32ba56-d2bc-4c95-bbcb-7266c185d0a6 button.colab-df-convert');\n",
       "        buttonEl.style.display =\n",
       "          google.colab.kernel.accessAllowed ? 'block' : 'none';\n",
       "\n",
       "        async function convertToInteractive(key) {\n",
       "          const element = document.querySelector('#df-ec32ba56-d2bc-4c95-bbcb-7266c185d0a6');\n",
       "          const dataTable =\n",
       "            await google.colab.kernel.invokeFunction('convertToInteractive',\n",
       "                                                     [key], {});\n",
       "          if (!dataTable) return;\n",
       "\n",
       "          const docLinkHtml = 'Like what you see? Visit the ' +\n",
       "            '<a target=\"_blank\" href=https://colab.research.google.com/notebooks/data_table.ipynb>data table notebook</a>'\n",
       "            + ' to learn more about interactive tables.';\n",
       "          element.innerHTML = '';\n",
       "          dataTable['output_type'] = 'display_data';\n",
       "          await google.colab.output.renderOutput(dataTable, element);\n",
       "          const docLink = document.createElement('div');\n",
       "          docLink.innerHTML = docLinkHtml;\n",
       "          element.appendChild(docLink);\n",
       "        }\n",
       "      </script>\n",
       "    </div>\n",
       "  </div>\n",
       "  "
      ],
      "text/plain": [
       "           id  member_id  loan_amnt  funded_amnt  funded_amnt_inv        term  \\\n",
       "23551  611872     784585       1500         1500       1500.00000   36 months   \n",
       "29639  519954     672152      25000        15500      11430.00082   60 months   \n",
       "30107  513542     663575       5000         5000       5000.00000   36 months   \n",
       "39089  269818     267741       8450         8450       3747.00000   36 months   \n",
       "\n",
       "      int_rate  installment grade sub_grade  ... total_rec_prncp  \\\n",
       "23551    6.17%        45.75     A        A3  ...          1500.0   \n",
       "29639   10.62%       334.08     B        B3  ...         15500.0   \n",
       "30107   12.73%       167.84     C        C1  ...          5000.0   \n",
       "39089   12.29%       281.84     C        C5  ...          8450.0   \n",
       "\n",
       "       total_rec_int total_rec_late_fee recoveries collection_recovery_fee  \\\n",
       "23551          62.35                0.0        0.0                     0.0   \n",
       "29639        4544.62                0.0        0.0                     0.0   \n",
       "30107         514.49                0.0        0.0                     0.0   \n",
       "39089        1695.93                0.0        0.0                     0.0   \n",
       "\n",
       "      last_pymnt_amnt policy_code application_type acc_now_delinq delinq_amnt  \n",
       "23551         1197.34           1       INDIVIDUAL              0           0  \n",
       "29639          353.14           1       INDIVIDUAL              0           0  \n",
       "30107         3845.25           1       INDIVIDUAL              0           0  \n",
       "39089          293.01           1       INDIVIDUAL              0           0  \n",
       "\n",
       "[4 rows x 43 columns]"
      ]
     },
     "execution_count": 32,
     "metadata": {},
     "output_type": "execute_result"
    }
   ],
   "source": [
    "df1\n"
   ]
  },
  {
   "cell_type": "code",
   "execution_count": null,
   "metadata": {
    "id": "UzWmtH6dlmmZ"
   },
   "outputs": [],
   "source": [
    "df2=df.drop(df[df['annual_inc']>=1800000].index)"
   ]
  },
  {
   "cell_type": "code",
   "execution_count": null,
   "metadata": {
    "id": "KOprJL3Lmumk"
   },
   "outputs": [],
   "source": [
    "df2"
   ]
  },
  {
   "cell_type": "code",
   "execution_count": null,
   "metadata": {
    "colab": {
     "base_uri": "https://localhost:8080/",
     "height": 297
    },
    "id": "PmOcbPOZnqh3",
    "outputId": "1d423dbe-cf55-42be-818b-7e6f348e1fd8"
   },
   "outputs": [
    {
     "data": {
      "text/plain": [
       "<matplotlib.axes._subplots.AxesSubplot at 0x7fb731a9f810>"
      ]
     },
     "execution_count": 35,
     "metadata": {},
     "output_type": "execute_result"
    },
    {
     "data": {
      "image/png": "[encoded data removed]",
      "text/plain": [
       "<Figure size 432x288 with 1 Axes>"
      ]
     },
     "metadata": {
      "needs_background": "light"
     },
     "output_type": "display_data"
    }
   ],
   "source": [
    "sns.boxplot(x=df[\"loan_amnt\"])"
   ]
  },
  {
   "cell_type": "code",
   "execution_count": null,
   "metadata": {
    "colab": {
     "base_uri": "https://localhost:8080/",
     "height": 297
    },
    "id": "XY-_KpErn-kg",
    "outputId": "60eaa702-2ffa-4f63-fe96-258bc6f22446"
   },
   "outputs": [
    {
     "data": {
      "text/plain": [
       "<matplotlib.axes._subplots.AxesSubplot at 0x7fb73198a0d0>"
      ]
     },
     "execution_count": 38,
     "metadata": {},
     "output_type": "execute_result"
    },
    {
     "data": {
      "image/png": "[encoded data removed]",
      "text/plain": [
       "<Figure size 432x288 with 1 Axes>"
      ]
     },
     "metadata": {
      "needs_background": "light"
     },
     "output_type": "display_data"
    }
   ],
   "source": [
    "sns.scatterplot(x=df[\"annual_inc\"],y=df[\"loan_amnt\"])"
   ]
  },
  {
   "cell_type": "markdown",
   "metadata": {
    "id": "4NUrUe3wpQJr"
   },
   "source": [
    "People with more than 5 Lac are less likely applicants\n"
   ]
  },
  {
   "cell_type": "markdown",
   "metadata": {
    "id": "hRN_wmzOp1sX"
   },
   "source": [
    "df3=df2['emp_length'].str.replace(r'\\D', '')"
   ]
  },
  {
   "cell_type": "code",
   "execution_count": null,
   "metadata": {
    "id": "mQT06Brcspc4"
   },
   "outputs": [],
   "source": [
    "df2['emp_length']=df2['emp_length'].str.rstrip(\" year\")"
   ]
  },
  {
   "cell_type": "code",
   "execution_count": null,
   "metadata": {
    "id": "LDDHnFpoug1C"
   },
   "outputs": [],
   "source": [
    "from string import ascii_letters\n",
    "df2['emp_length'] = df2['emp_length'].map(lambda x: x.lstrip('+-').rstrip(ascii_letters))"
   ]
  },
  {
   "cell_type": "code",
   "execution_count": null,
   "metadata": {
    "id": "Gjx3N1BSr4xk"
   },
   "outputs": [],
   "source": [
    "df['colB'] = df['colB'].str.replace(r'\\D', '')\n"
   ]
  },
  {
   "cell_type": "code",
   "execution_count": null,
   "metadata": {
    "id": "ui9YSHeZpP76"
   },
   "outputs": [],
   "source": [
    "sns.scatterplot(x=df[\"annual_inc\"],y=df[\"\"])"
   ]
  },
  {
   "cell_type": "code",
   "execution_count": null,
   "metadata": {
    "colab": {
     "base_uri": "https://localhost:8080/",
     "height": 214
    },
    "id": "LOoS7vTDw9h-",
    "outputId": "3499b937-4ce7-4d58-d2e2-0fae7b97969c"
   },
   "outputs": [
    {
     "data": {
      "text/plain": [
       "<seaborn.axisgrid.PairGrid at 0x7fb72e16fc10>"
      ]
     },
     "execution_count": 52,
     "metadata": {},
     "output_type": "execute_result"
    },
    {
     "data": {
      "image/png": "[encoded data removed]",
      "text/plain": [
       "<Figure size 180x180 with 2 Axes>"
      ]
     },
     "metadata": {
      "needs_background": "light"
     },
     "output_type": "display_data"
    }
   ],
   "source": [
    "cont_cols=[\"annual_inc\",\"verification_status\",\"loan_status\"]\n",
    "sns.pairplot(df2[cont_cols],kind='reg')"
   ]
  },
  {
   "cell_type": "code",
   "execution_count": null,
   "metadata": {
    "colab": {
     "base_uri": "https://localhost:8080/",
     "height": 143
    },
    "id": "EyRZ_Ye4y5M9",
    "outputId": "d1681218-97c6-4df5-c1c0-be44c82e8a16"
   },
   "outputs": [
    {
     "data": {
      "text/html": [
       "\n",
       "  <div id=\"df-9b2c02f9-7f87-4556-b18c-5123164652c2\">\n",
       "    <div class=\"colab-df-container\">\n",
       "      <div>\n",
       "<style scoped>\n",
       "    .dataframe tbody tr th:only-of-type {\n",
       "        vertical-align: middle;\n",
       "    }\n",
       "\n",
       "    .dataframe tbody tr th {\n",
       "        vertical-align: top;\n",
       "    }\n",
       "\n",
       "    .dataframe thead th {\n",
       "        text-align: right;\n",
       "    }\n",
       "</style>\n",
       "<table border=\"1\" class=\"dataframe\">\n",
       "  <thead>\n",
       "    <tr style=\"text-align: right;\">\n",
       "      <th></th>\n",
       "      <th>verification_status</th>\n",
       "      <th>count</th>\n",
       "      <th>unique</th>\n",
       "      <th>top</th>\n",
       "      <th>freq</th>\n",
       "    </tr>\n",
       "  </thead>\n",
       "  <tbody>\n",
       "    <tr>\n",
       "      <th>0</th>\n",
       "      <td>Not Verified</td>\n",
       "      <td>16921</td>\n",
       "      <td>3</td>\n",
       "      <td>Fully Paid</td>\n",
       "      <td>14552</td>\n",
       "    </tr>\n",
       "    <tr>\n",
       "      <th>1</th>\n",
       "      <td>Source Verified</td>\n",
       "      <td>9987</td>\n",
       "      <td>3</td>\n",
       "      <td>Fully Paid</td>\n",
       "      <td>8243</td>\n",
       "    </tr>\n",
       "    <tr>\n",
       "      <th>2</th>\n",
       "      <td>Verified</td>\n",
       "      <td>12809</td>\n",
       "      <td>3</td>\n",
       "      <td>Fully Paid</td>\n",
       "      <td>10155</td>\n",
       "    </tr>\n",
       "  </tbody>\n",
       "</table>\n",
       "</div>\n",
       "      <button class=\"colab-df-convert\" onclick=\"convertToInteractive('df-9b2c02f9-7f87-4556-b18c-5123164652c2')\"\n",
       "              title=\"Convert this dataframe to an interactive table.\"\n",
       "              style=\"display:none;\">\n",
       "        \n",
       "  <svg xmlns=\"http://www.w3.org/2000/svg\" height=\"24px\"viewBox=\"0 0 24 24\"\n",
       "       width=\"24px\">\n",
       "    <path d=\"M0 0h24v24H0V0z\" fill=\"none\"/>\n",
       "    <path d=\"M18.56 5.44l.94 2.06.94-2.06 2.06-.94-2.06-.94-.94-2.06-.94 2.06-2.06.94zm-11 1L8.5 8.5l.94-2.06 2.06-.94-2.06-.94L8.5 2.5l-.94 2.06-2.06.94zm10 10l.94 2.06.94-2.06 2.06-.94-2.06-.94-.94-2.06-.94 2.06-2.06.94z\"/><path d=\"M17.41 7.96l-1.37-1.37c-.4-.4-.92-.59-1.43-.59-.52 0-1.04.2-1.43.59L10.3 9.45l-7.72 7.72c-.78.78-.78 2.05 0 2.83L4 21.41c.39.39.9.59 1.41.59.51 0 1.02-.2 1.41-.59l7.78-7.78 2.81-2.81c.8-.78.8-2.07 0-2.86zM5.41 20L4 18.59l7.72-7.72 1.47 1.35L5.41 20z\"/>\n",
       "  </svg>\n",
       "      </button>\n",
       "      \n",
       "  <style>\n",
       "    .colab-df-container {\n",
       "      display:flex;\n",
       "      flex-wrap:wrap;\n",
       "      gap: 12px;\n",
       "    }\n",
       "\n",
       "    .colab-df-convert {\n",
       "      background-color: #E8F0FE;\n",
       "      border: none;\n",
       "      border-radius: 50%;\n",
       "      cursor: pointer;\n",
       "      display: none;\n",
       "      fill: #1967D2;\n",
       "      height: 32px;\n",
       "      padding: 0 0 0 0;\n",
       "      width: 32px;\n",
       "    }\n",
       "\n",
       "    .colab-df-convert:hover {\n",
       "      background-color: #E2EBFA;\n",
       "      box-shadow: 0px 1px 2px rgba(60, 64, 67, 0.3), 0px 1px 3px 1px rgba(60, 64, 67, 0.15);\n",
       "      fill: #174EA6;\n",
       "    }\n",
       "\n",
       "    [theme=dark] .colab-df-convert {\n",
       "      background-color: #3B4455;\n",
       "      fill: #D2E3FC;\n",
       "    }\n",
       "\n",
       "    [theme=dark] .colab-df-convert:hover {\n",
       "      background-color: #434B5C;\n",
       "      box-shadow: 0px 1px 3px 1px rgba(0, 0, 0, 0.15);\n",
       "      filter: drop-shadow(0px 1px 2px rgba(0, 0, 0, 0.3));\n",
       "      fill: #FFFFFF;\n",
       "    }\n",
       "  </style>\n",
       "\n",
       "      <script>\n",
       "        const buttonEl =\n",
       "          document.querySelector('#df-9b2c02f9-7f87-4556-b18c-5123164652c2 button.colab-df-convert');\n",
       "        buttonEl.style.display =\n",
       "          google.colab.kernel.accessAllowed ? 'block' : 'none';\n",
       "\n",
       "        async function convertToInteractive(key) {\n",
       "          const element = document.querySelector('#df-9b2c02f9-7f87-4556-b18c-5123164652c2');\n",
       "          const dataTable =\n",
       "            await google.colab.kernel.invokeFunction('convertToInteractive',\n",
       "                                                     [key], {});\n",
       "          if (!dataTable) return;\n",
       "\n",
       "          const docLinkHtml = 'Like what you see? Visit the ' +\n",
       "            '<a target=\"_blank\" href=https://colab.research.google.com/notebooks/data_table.ipynb>data table notebook</a>'\n",
       "            + ' to learn more about interactive tables.';\n",
       "          element.innerHTML = '';\n",
       "          dataTable['output_type'] = 'display_data';\n",
       "          await google.colab.output.renderOutput(dataTable, element);\n",
       "          const docLink = document.createElement('div');\n",
       "          docLink.innerHTML = docLinkHtml;\n",
       "          element.appendChild(docLink);\n",
       "        }\n",
       "      </script>\n",
       "    </div>\n",
       "  </div>\n",
       "  "
      ],
      "text/plain": [
       "  verification_status  count unique         top   freq\n",
       "0        Not Verified  16921      3  Fully Paid  14552\n",
       "1     Source Verified   9987      3  Fully Paid   8243\n",
       "2            Verified  12809      3  Fully Paid  10155"
      ]
     },
     "execution_count": 55,
     "metadata": {},
     "output_type": "execute_result"
    }
   ],
   "source": [
    "df.groupby([\"verification_status\"])[\"loan_status\"].describe().reset_index()"
   ]
  },
  {
   "cell_type": "code",
   "execution_count": 14,
   "metadata": {
    "colab": {
     "base_uri": "https://localhost:8080/",
     "height": 404
    },
    "id": "osIDMo-tuQbN",
    "outputId": "ae497e7e-8b63-42b2-c727-95640ec0a29a"
   },
   "outputs": [
    {
     "data": {
      "image/png": "[encoded data removed]",
      "text/plain": [
       "<Figure size 1080x432 with 1 Axes>"
      ]
     },
     "metadata": {
      "needs_background": "light"
     },
     "output_type": "display_data"
    }
   ],
   "source": [
    "from matplotlib.patches import Rectangle\n",
    "import matplotlib.pyplot as plt\n",
    "import matplotlib.colors as mcolors\n",
    "pd.crosstab(df.verification_status,df.loan_status).plot(kind=\"bar\",figsize=(15,6),color=['r','g','b' ])\n",
    "plt.title('Loan repayment Frequency According To Verification status')\n",
    "plt.xlabel('Verification Status')\n",
    "plt.xticks(rotation =0)\n",
    "plt.ylabel('Frequency of Loan Payment')\n",
    "plt.show()"
   ]
  },
  {
   "cell_type": "markdown",
   "metadata": {
    "id": "5IP_8e0TqxSb"
   },
   "source": [
    "## **Insights of Lending Club Study**\n",
    "![image.png](data:image/png;base64,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)"
   ]
  }
 ],
 "metadata": {
  "colab": {
   "collapsed_sections": [],
   "name": "Lending Club Case Study.ipynb",
   "provenance": []
  },
  "kernelspec": {
   "display_name": "Python 3 (ipykernel)",
   "language": "python",
   "name": "python3"
  },
  "language_info": {
   "codemirror_mode": {
    "name": "ipython",
    "version": 3
   },
   "file_extension": ".py",
   "mimetype": "text/x-python",
   "name": "python",
   "nbconvert_exporter": "python",
   "pygments_lexer": "ipython3",
   "version": "3.9.7"
  }
 },
 "nbformat": 4,
 "nbformat_minor": 1
}
